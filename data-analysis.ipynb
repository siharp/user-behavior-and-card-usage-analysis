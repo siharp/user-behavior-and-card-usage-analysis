{
 "cells": [
  {
   "cell_type": "code",
   "execution_count": 1,
   "id": "a91ada34",
   "metadata": {},
   "outputs": [],
   "source": [
    "# import libraries\n",
    "import pandas as pd\n",
    "import duckdb"
   ]
  },
  {
   "cell_type": "code",
   "execution_count": 2,
   "id": "9541025a",
   "metadata": {},
   "outputs": [],
   "source": [
    "# import dataset\n",
    "cards = pd.read_csv('../dataset/cards_data.csv')\n",
    "users = pd.read_csv('../dataset/users_data.csv')\n",
    "transactions = pd.read_csv('../dataset/transactions_data.csv')"
   ]
  },
  {
   "cell_type": "markdown",
   "id": "e804eaf9",
   "metadata": {},
   "source": [
    "## Card Analysis"
   ]
  },
  {
   "cell_type": "code",
   "execution_count": null,
   "id": "3291fad6",
   "metadata": {},
   "outputs": [
    {
     "data": {
      "text/html": [
       "<div>\n",
       "<style scoped>\n",
       "    .dataframe tbody tr th:only-of-type {\n",
       "        vertical-align: middle;\n",
       "    }\n",
       "\n",
       "    .dataframe tbody tr th {\n",
       "        vertical-align: top;\n",
       "    }\n",
       "\n",
       "    .dataframe thead th {\n",
       "        text-align: right;\n",
       "    }\n",
       "</style>\n",
       "<table border=\"1\" class=\"dataframe\">\n",
       "  <thead>\n",
       "    <tr style=\"text-align: right;\">\n",
       "      <th></th>\n",
       "      <th>id</th>\n",
       "      <th>client_id</th>\n",
       "      <th>card_brand</th>\n",
       "      <th>card_type</th>\n",
       "      <th>card_number</th>\n",
       "      <th>expires</th>\n",
       "      <th>cvv</th>\n",
       "      <th>has_chip</th>\n",
       "      <th>num_cards_issued</th>\n",
       "      <th>credit_limit</th>\n",
       "      <th>acct_open_date</th>\n",
       "      <th>year_pin_last_changed</th>\n",
       "      <th>card_on_dark_web</th>\n",
       "    </tr>\n",
       "  </thead>\n",
       "  <tbody>\n",
       "    <tr>\n",
       "      <th>0</th>\n",
       "      <td>4524</td>\n",
       "      <td>825</td>\n",
       "      <td>Visa</td>\n",
       "      <td>Debit</td>\n",
       "      <td>4344676511950444</td>\n",
       "      <td>12/2022</td>\n",
       "      <td>623</td>\n",
       "      <td>YES</td>\n",
       "      <td>2</td>\n",
       "      <td>$24295</td>\n",
       "      <td>09/2002</td>\n",
       "      <td>2008</td>\n",
       "      <td>No</td>\n",
       "    </tr>\n",
       "    <tr>\n",
       "      <th>1</th>\n",
       "      <td>2731</td>\n",
       "      <td>825</td>\n",
       "      <td>Visa</td>\n",
       "      <td>Debit</td>\n",
       "      <td>4956965974959986</td>\n",
       "      <td>12/2020</td>\n",
       "      <td>393</td>\n",
       "      <td>YES</td>\n",
       "      <td>2</td>\n",
       "      <td>$21968</td>\n",
       "      <td>04/2014</td>\n",
       "      <td>2014</td>\n",
       "      <td>No</td>\n",
       "    </tr>\n",
       "    <tr>\n",
       "      <th>2</th>\n",
       "      <td>3701</td>\n",
       "      <td>825</td>\n",
       "      <td>Visa</td>\n",
       "      <td>Debit</td>\n",
       "      <td>4582313478255491</td>\n",
       "      <td>02/2024</td>\n",
       "      <td>719</td>\n",
       "      <td>YES</td>\n",
       "      <td>2</td>\n",
       "      <td>$46414</td>\n",
       "      <td>07/2003</td>\n",
       "      <td>2004</td>\n",
       "      <td>No</td>\n",
       "    </tr>\n",
       "    <tr>\n",
       "      <th>3</th>\n",
       "      <td>42</td>\n",
       "      <td>825</td>\n",
       "      <td>Visa</td>\n",
       "      <td>Credit</td>\n",
       "      <td>4879494103069057</td>\n",
       "      <td>08/2024</td>\n",
       "      <td>693</td>\n",
       "      <td>NO</td>\n",
       "      <td>1</td>\n",
       "      <td>$12400</td>\n",
       "      <td>01/2003</td>\n",
       "      <td>2012</td>\n",
       "      <td>No</td>\n",
       "    </tr>\n",
       "    <tr>\n",
       "      <th>4</th>\n",
       "      <td>4659</td>\n",
       "      <td>825</td>\n",
       "      <td>Mastercard</td>\n",
       "      <td>Debit (Prepaid)</td>\n",
       "      <td>5722874738736011</td>\n",
       "      <td>03/2009</td>\n",
       "      <td>75</td>\n",
       "      <td>YES</td>\n",
       "      <td>1</td>\n",
       "      <td>$28</td>\n",
       "      <td>09/2008</td>\n",
       "      <td>2009</td>\n",
       "      <td>No</td>\n",
       "    </tr>\n",
       "  </tbody>\n",
       "</table>\n",
       "</div>"
      ],
      "text/plain": [
       "     id  client_id  card_brand        card_type       card_number  expires  \\\n",
       "0  4524        825        Visa            Debit  4344676511950444  12/2022   \n",
       "1  2731        825        Visa            Debit  4956965974959986  12/2020   \n",
       "2  3701        825        Visa            Debit  4582313478255491  02/2024   \n",
       "3    42        825        Visa           Credit  4879494103069057  08/2024   \n",
       "4  4659        825  Mastercard  Debit (Prepaid)  5722874738736011  03/2009   \n",
       "\n",
       "   cvv has_chip  num_cards_issued credit_limit acct_open_date  \\\n",
       "0  623      YES                 2       $24295        09/2002   \n",
       "1  393      YES                 2       $21968        04/2014   \n",
       "2  719      YES                 2       $46414        07/2003   \n",
       "3  693       NO                 1       $12400        01/2003   \n",
       "4   75      YES                 1          $28        09/2008   \n",
       "\n",
       "   year_pin_last_changed card_on_dark_web  \n",
       "0                   2008               No  \n",
       "1                   2014               No  \n",
       "2                   2004               No  \n",
       "3                   2012               No  \n",
       "4                   2009               No  "
      ]
     },
     "execution_count": 3,
     "metadata": {},
     "output_type": "execute_result"
    }
   ],
   "source": [
    "# show head of cards data\n",
    "cards.head()"
   ]
  },
  {
   "cell_type": "code",
   "execution_count": 4,
   "id": "4289469f",
   "metadata": {},
   "outputs": [
    {
     "data": {
      "text/plain": [
       "np.int64(0)"
      ]
     },
     "execution_count": 4,
     "metadata": {},
     "output_type": "execute_result"
    }
   ],
   "source": [
    "# check duplicated \n",
    "cards.duplicated().sum()"
   ]
  },
  {
   "cell_type": "code",
   "execution_count": null,
   "id": "48985aff",
   "metadata": {},
   "outputs": [
    {
     "data": {
      "text/plain": [
       "id                       0\n",
       "client_id                0\n",
       "card_brand               0\n",
       "card_type                0\n",
       "card_number              0\n",
       "expires                  0\n",
       "cvv                      0\n",
       "has_chip                 0\n",
       "num_cards_issued         0\n",
       "credit_limit             0\n",
       "acct_open_date           0\n",
       "year_pin_last_changed    0\n",
       "card_on_dark_web         0\n",
       "dtype: int64"
      ]
     },
     "execution_count": 5,
     "metadata": {},
     "output_type": "execute_result"
    }
   ],
   "source": [
    "# check missing value\n",
    "cards.isna().sum()"
   ]
  },
  {
   "cell_type": "code",
   "execution_count": 6,
   "id": "6bef3599",
   "metadata": {},
   "outputs": [],
   "source": [
    "# remove dolars symbols\n",
    "cards['credit_limit'] = cards['credit_limit'].str.replace('$', '').astype(int)"
   ]
  },
  {
   "cell_type": "code",
   "execution_count": null,
   "id": "1d8e2a27",
   "metadata": {},
   "outputs": [
    {
     "name": "stdout",
     "output_type": "stream",
     "text": [
      "<class 'pandas.core.frame.DataFrame'>\n",
      "RangeIndex: 6146 entries, 0 to 6145\n",
      "Data columns (total 13 columns):\n",
      " #   Column                 Non-Null Count  Dtype \n",
      "---  ------                 --------------  ----- \n",
      " 0   id                     6146 non-null   int64 \n",
      " 1   client_id              6146 non-null   int64 \n",
      " 2   card_brand             6146 non-null   object\n",
      " 3   card_type              6146 non-null   object\n",
      " 4   card_number            6146 non-null   int64 \n",
      " 5   expires                6146 non-null   object\n",
      " 6   cvv                    6146 non-null   int64 \n",
      " 7   has_chip               6146 non-null   object\n",
      " 8   num_cards_issued       6146 non-null   int64 \n",
      " 9   credit_limit           6146 non-null   int64 \n",
      " 10  acct_open_date         6146 non-null   object\n",
      " 11  year_pin_last_changed  6146 non-null   int64 \n",
      " 12  card_on_dark_web       6146 non-null   object\n",
      "dtypes: int64(7), object(6)\n",
      "memory usage: 624.3+ KB\n"
     ]
    }
   ],
   "source": [
    "# check information of cards data\n",
    "cards.info()"
   ]
  },
  {
   "cell_type": "code",
   "execution_count": 9,
   "id": "4472b978",
   "metadata": {},
   "outputs": [
    {
     "name": "stdout",
     "output_type": "stream",
     "text": [
      "card_brand\n",
      "Mastercard    3209\n",
      "Visa          2326\n",
      "Amex           402\n",
      "Discover       209\n",
      "Name: count, dtype: int64\n",
      "\n",
      "\n",
      "card_type\n",
      "Debit              3511\n",
      "Credit             2057\n",
      "Debit (Prepaid)     578\n",
      "Name: count, dtype: int64\n",
      "\n",
      "\n",
      "has_chip\n",
      "YES    5500\n",
      "NO      646\n",
      "Name: count, dtype: int64\n",
      "\n",
      "\n",
      "card_on_dark_web\n",
      "No    6146\n",
      "Name: count, dtype: int64\n",
      "\n",
      "\n"
     ]
    }
   ],
   "source": [
    "# check value counts of category columns\n",
    "cat_cols = ['card_brand', 'card_type', 'has_chip','card_on_dark_web']\n",
    "\n",
    "for col in cat_cols:\n",
    "  print(cards[col].value_counts(dropna=False))\n",
    "  print('\\n')"
   ]
  },
  {
   "cell_type": "code",
   "execution_count": 10,
   "id": "0fd55620",
   "metadata": {},
   "outputs": [
    {
     "data": {
      "text/html": [
       "<div>\n",
       "<style scoped>\n",
       "    .dataframe tbody tr th:only-of-type {\n",
       "        vertical-align: middle;\n",
       "    }\n",
       "\n",
       "    .dataframe tbody tr th {\n",
       "        vertical-align: top;\n",
       "    }\n",
       "\n",
       "    .dataframe thead th {\n",
       "        text-align: right;\n",
       "    }\n",
       "</style>\n",
       "<table border=\"1\" class=\"dataframe\">\n",
       "  <thead>\n",
       "    <tr style=\"text-align: right;\">\n",
       "      <th></th>\n",
       "      <th>id</th>\n",
       "      <th>client_id</th>\n",
       "      <th>card_brand</th>\n",
       "      <th>card_type</th>\n",
       "      <th>card_number</th>\n",
       "      <th>expires</th>\n",
       "      <th>cvv</th>\n",
       "      <th>has_chip</th>\n",
       "      <th>num_cards_issued</th>\n",
       "      <th>credit_limit</th>\n",
       "      <th>acct_open_date</th>\n",
       "      <th>year_pin_last_changed</th>\n",
       "      <th>card_on_dark_web</th>\n",
       "    </tr>\n",
       "  </thead>\n",
       "  <tbody>\n",
       "    <tr>\n",
       "      <th>0</th>\n",
       "      <td>4524</td>\n",
       "      <td>825</td>\n",
       "      <td>Visa</td>\n",
       "      <td>Debit</td>\n",
       "      <td>4344676511950444</td>\n",
       "      <td>12/2022</td>\n",
       "      <td>623</td>\n",
       "      <td>YES</td>\n",
       "      <td>2</td>\n",
       "      <td>24295</td>\n",
       "      <td>09/2002</td>\n",
       "      <td>2008</td>\n",
       "      <td>No</td>\n",
       "    </tr>\n",
       "    <tr>\n",
       "      <th>1</th>\n",
       "      <td>2731</td>\n",
       "      <td>825</td>\n",
       "      <td>Visa</td>\n",
       "      <td>Debit</td>\n",
       "      <td>4956965974959986</td>\n",
       "      <td>12/2020</td>\n",
       "      <td>393</td>\n",
       "      <td>YES</td>\n",
       "      <td>2</td>\n",
       "      <td>21968</td>\n",
       "      <td>04/2014</td>\n",
       "      <td>2014</td>\n",
       "      <td>No</td>\n",
       "    </tr>\n",
       "    <tr>\n",
       "      <th>2</th>\n",
       "      <td>3701</td>\n",
       "      <td>825</td>\n",
       "      <td>Visa</td>\n",
       "      <td>Debit</td>\n",
       "      <td>4582313478255491</td>\n",
       "      <td>02/2024</td>\n",
       "      <td>719</td>\n",
       "      <td>YES</td>\n",
       "      <td>2</td>\n",
       "      <td>46414</td>\n",
       "      <td>07/2003</td>\n",
       "      <td>2004</td>\n",
       "      <td>No</td>\n",
       "    </tr>\n",
       "    <tr>\n",
       "      <th>3</th>\n",
       "      <td>42</td>\n",
       "      <td>825</td>\n",
       "      <td>Visa</td>\n",
       "      <td>Credit</td>\n",
       "      <td>4879494103069057</td>\n",
       "      <td>08/2024</td>\n",
       "      <td>693</td>\n",
       "      <td>NO</td>\n",
       "      <td>1</td>\n",
       "      <td>12400</td>\n",
       "      <td>01/2003</td>\n",
       "      <td>2012</td>\n",
       "      <td>No</td>\n",
       "    </tr>\n",
       "    <tr>\n",
       "      <th>4</th>\n",
       "      <td>4659</td>\n",
       "      <td>825</td>\n",
       "      <td>Mastercard</td>\n",
       "      <td>Debit (Prepaid)</td>\n",
       "      <td>5722874738736011</td>\n",
       "      <td>03/2009</td>\n",
       "      <td>75</td>\n",
       "      <td>YES</td>\n",
       "      <td>1</td>\n",
       "      <td>28</td>\n",
       "      <td>09/2008</td>\n",
       "      <td>2009</td>\n",
       "      <td>No</td>\n",
       "    </tr>\n",
       "  </tbody>\n",
       "</table>\n",
       "</div>"
      ],
      "text/plain": [
       "     id  client_id  card_brand        card_type       card_number  expires  \\\n",
       "0  4524        825        Visa            Debit  4344676511950444  12/2022   \n",
       "1  2731        825        Visa            Debit  4956965974959986  12/2020   \n",
       "2  3701        825        Visa            Debit  4582313478255491  02/2024   \n",
       "3    42        825        Visa           Credit  4879494103069057  08/2024   \n",
       "4  4659        825  Mastercard  Debit (Prepaid)  5722874738736011  03/2009   \n",
       "\n",
       "   cvv has_chip  num_cards_issued  credit_limit acct_open_date  \\\n",
       "0  623      YES                 2         24295        09/2002   \n",
       "1  393      YES                 2         21968        04/2014   \n",
       "2  719      YES                 2         46414        07/2003   \n",
       "3  693       NO                 1         12400        01/2003   \n",
       "4   75      YES                 1            28        09/2008   \n",
       "\n",
       "   year_pin_last_changed card_on_dark_web  \n",
       "0                   2008               No  \n",
       "1                   2014               No  \n",
       "2                   2004               No  \n",
       "3                   2012               No  \n",
       "4                   2009               No  "
      ]
     },
     "execution_count": 10,
     "metadata": {},
     "output_type": "execute_result"
    }
   ],
   "source": [
    "cards.head()"
   ]
  },
  {
   "cell_type": "code",
   "execution_count": 57,
   "id": "13565852",
   "metadata": {},
   "outputs": [
    {
     "data": {
      "text/html": [
       "<div>\n",
       "<style scoped>\n",
       "    .dataframe tbody tr th:only-of-type {\n",
       "        vertical-align: middle;\n",
       "    }\n",
       "\n",
       "    .dataframe tbody tr th {\n",
       "        vertical-align: top;\n",
       "    }\n",
       "\n",
       "    .dataframe thead th {\n",
       "        text-align: right;\n",
       "    }\n",
       "</style>\n",
       "<table border=\"1\" class=\"dataframe\">\n",
       "  <thead>\n",
       "    <tr style=\"text-align: right;\">\n",
       "      <th></th>\n",
       "      <th>count</th>\n",
       "      <th>mean</th>\n",
       "      <th>std</th>\n",
       "      <th>min</th>\n",
       "      <th>25%</th>\n",
       "      <th>50%</th>\n",
       "      <th>75%</th>\n",
       "      <th>max</th>\n",
       "    </tr>\n",
       "  </thead>\n",
       "  <tbody>\n",
       "    <tr>\n",
       "      <th>id</th>\n",
       "      <td>6146.0</td>\n",
       "      <td>3.072500e+03</td>\n",
       "      <td>1.774342e+03</td>\n",
       "      <td>0.000000e+00</td>\n",
       "      <td>1.536250e+03</td>\n",
       "      <td>3.072500e+03</td>\n",
       "      <td>4.608750e+03</td>\n",
       "      <td>6.145000e+03</td>\n",
       "    </tr>\n",
       "    <tr>\n",
       "      <th>client_id</th>\n",
       "      <td>6146.0</td>\n",
       "      <td>9.949396e+02</td>\n",
       "      <td>5.786146e+02</td>\n",
       "      <td>0.000000e+00</td>\n",
       "      <td>4.922500e+02</td>\n",
       "      <td>9.920000e+02</td>\n",
       "      <td>1.495000e+03</td>\n",
       "      <td>1.999000e+03</td>\n",
       "    </tr>\n",
       "    <tr>\n",
       "      <th>card_number</th>\n",
       "      <td>6146.0</td>\n",
       "      <td>4.820426e+15</td>\n",
       "      <td>1.328582e+15</td>\n",
       "      <td>3.001055e+14</td>\n",
       "      <td>4.486365e+15</td>\n",
       "      <td>5.108957e+15</td>\n",
       "      <td>5.585237e+15</td>\n",
       "      <td>6.997197e+15</td>\n",
       "    </tr>\n",
       "    <tr>\n",
       "      <th>cvv</th>\n",
       "      <td>6146.0</td>\n",
       "      <td>5.062208e+02</td>\n",
       "      <td>2.894311e+02</td>\n",
       "      <td>0.000000e+00</td>\n",
       "      <td>2.570000e+02</td>\n",
       "      <td>5.165000e+02</td>\n",
       "      <td>7.560000e+02</td>\n",
       "      <td>9.990000e+02</td>\n",
       "    </tr>\n",
       "    <tr>\n",
       "      <th>num_cards_issued</th>\n",
       "      <td>6146.0</td>\n",
       "      <td>1.503091e+00</td>\n",
       "      <td>5.191909e-01</td>\n",
       "      <td>1.000000e+00</td>\n",
       "      <td>1.000000e+00</td>\n",
       "      <td>1.000000e+00</td>\n",
       "      <td>2.000000e+00</td>\n",
       "      <td>3.000000e+00</td>\n",
       "    </tr>\n",
       "    <tr>\n",
       "      <th>credit_limit</th>\n",
       "      <td>6146.0</td>\n",
       "      <td>1.434749e+04</td>\n",
       "      <td>1.201446e+04</td>\n",
       "      <td>0.000000e+00</td>\n",
       "      <td>7.042750e+03</td>\n",
       "      <td>1.259250e+04</td>\n",
       "      <td>1.915650e+04</td>\n",
       "      <td>1.512230e+05</td>\n",
       "    </tr>\n",
       "    <tr>\n",
       "      <th>year_pin_last_changed</th>\n",
       "      <td>6146.0</td>\n",
       "      <td>2.013437e+03</td>\n",
       "      <td>4.270699e+00</td>\n",
       "      <td>2.002000e+03</td>\n",
       "      <td>2.010000e+03</td>\n",
       "      <td>2.013000e+03</td>\n",
       "      <td>2.017000e+03</td>\n",
       "      <td>2.020000e+03</td>\n",
       "    </tr>\n",
       "  </tbody>\n",
       "</table>\n",
       "</div>"
      ],
      "text/plain": [
       "                        count          mean           std           min  \\\n",
       "id                     6146.0  3.072500e+03  1.774342e+03  0.000000e+00   \n",
       "client_id              6146.0  9.949396e+02  5.786146e+02  0.000000e+00   \n",
       "card_number            6146.0  4.820426e+15  1.328582e+15  3.001055e+14   \n",
       "cvv                    6146.0  5.062208e+02  2.894311e+02  0.000000e+00   \n",
       "num_cards_issued       6146.0  1.503091e+00  5.191909e-01  1.000000e+00   \n",
       "credit_limit           6146.0  1.434749e+04  1.201446e+04  0.000000e+00   \n",
       "year_pin_last_changed  6146.0  2.013437e+03  4.270699e+00  2.002000e+03   \n",
       "\n",
       "                                25%           50%           75%           max  \n",
       "id                     1.536250e+03  3.072500e+03  4.608750e+03  6.145000e+03  \n",
       "client_id              4.922500e+02  9.920000e+02  1.495000e+03  1.999000e+03  \n",
       "card_number            4.486365e+15  5.108957e+15  5.585237e+15  6.997197e+15  \n",
       "cvv                    2.570000e+02  5.165000e+02  7.560000e+02  9.990000e+02  \n",
       "num_cards_issued       1.000000e+00  1.000000e+00  2.000000e+00  3.000000e+00  \n",
       "credit_limit           7.042750e+03  1.259250e+04  1.915650e+04  1.512230e+05  \n",
       "year_pin_last_changed  2.010000e+03  2.013000e+03  2.017000e+03  2.020000e+03  "
      ]
     },
     "execution_count": 57,
     "metadata": {},
     "output_type": "execute_result"
    }
   ],
   "source": [
    "cards.describe().T"
   ]
  },
  {
   "cell_type": "markdown",
   "id": "5d0247d8",
   "metadata": {},
   "source": [
    "## User Analysis"
   ]
  },
  {
   "cell_type": "code",
   "execution_count": null,
   "id": "b35da6f3",
   "metadata": {},
   "outputs": [
    {
     "data": {
      "text/html": [
       "<div>\n",
       "<style scoped>\n",
       "    .dataframe tbody tr th:only-of-type {\n",
       "        vertical-align: middle;\n",
       "    }\n",
       "\n",
       "    .dataframe tbody tr th {\n",
       "        vertical-align: top;\n",
       "    }\n",
       "\n",
       "    .dataframe thead th {\n",
       "        text-align: right;\n",
       "    }\n",
       "</style>\n",
       "<table border=\"1\" class=\"dataframe\">\n",
       "  <thead>\n",
       "    <tr style=\"text-align: right;\">\n",
       "      <th></th>\n",
       "      <th>id</th>\n",
       "      <th>current_age</th>\n",
       "      <th>retirement_age</th>\n",
       "      <th>birth_year</th>\n",
       "      <th>birth_month</th>\n",
       "      <th>gender</th>\n",
       "      <th>address</th>\n",
       "      <th>latitude</th>\n",
       "      <th>longitude</th>\n",
       "      <th>per_capita_income</th>\n",
       "      <th>yearly_income</th>\n",
       "      <th>total_debt</th>\n",
       "      <th>credit_score</th>\n",
       "      <th>num_credit_cards</th>\n",
       "    </tr>\n",
       "  </thead>\n",
       "  <tbody>\n",
       "    <tr>\n",
       "      <th>0</th>\n",
       "      <td>825</td>\n",
       "      <td>53</td>\n",
       "      <td>66</td>\n",
       "      <td>1966</td>\n",
       "      <td>11</td>\n",
       "      <td>Female</td>\n",
       "      <td>462 Rose Lane</td>\n",
       "      <td>34.15</td>\n",
       "      <td>-117.76</td>\n",
       "      <td>$29278</td>\n",
       "      <td>$59696</td>\n",
       "      <td>$127613</td>\n",
       "      <td>787</td>\n",
       "      <td>5</td>\n",
       "    </tr>\n",
       "    <tr>\n",
       "      <th>1</th>\n",
       "      <td>1746</td>\n",
       "      <td>53</td>\n",
       "      <td>68</td>\n",
       "      <td>1966</td>\n",
       "      <td>12</td>\n",
       "      <td>Female</td>\n",
       "      <td>3606 Federal Boulevard</td>\n",
       "      <td>40.76</td>\n",
       "      <td>-73.74</td>\n",
       "      <td>$37891</td>\n",
       "      <td>$77254</td>\n",
       "      <td>$191349</td>\n",
       "      <td>701</td>\n",
       "      <td>5</td>\n",
       "    </tr>\n",
       "    <tr>\n",
       "      <th>2</th>\n",
       "      <td>1718</td>\n",
       "      <td>81</td>\n",
       "      <td>67</td>\n",
       "      <td>1938</td>\n",
       "      <td>11</td>\n",
       "      <td>Female</td>\n",
       "      <td>766 Third Drive</td>\n",
       "      <td>34.02</td>\n",
       "      <td>-117.89</td>\n",
       "      <td>$22681</td>\n",
       "      <td>$33483</td>\n",
       "      <td>$196</td>\n",
       "      <td>698</td>\n",
       "      <td>5</td>\n",
       "    </tr>\n",
       "    <tr>\n",
       "      <th>3</th>\n",
       "      <td>708</td>\n",
       "      <td>63</td>\n",
       "      <td>63</td>\n",
       "      <td>1957</td>\n",
       "      <td>1</td>\n",
       "      <td>Female</td>\n",
       "      <td>3 Madison Street</td>\n",
       "      <td>40.71</td>\n",
       "      <td>-73.99</td>\n",
       "      <td>$163145</td>\n",
       "      <td>$249925</td>\n",
       "      <td>$202328</td>\n",
       "      <td>722</td>\n",
       "      <td>4</td>\n",
       "    </tr>\n",
       "    <tr>\n",
       "      <th>4</th>\n",
       "      <td>1164</td>\n",
       "      <td>43</td>\n",
       "      <td>70</td>\n",
       "      <td>1976</td>\n",
       "      <td>9</td>\n",
       "      <td>Male</td>\n",
       "      <td>9620 Valley Stream Drive</td>\n",
       "      <td>37.76</td>\n",
       "      <td>-122.44</td>\n",
       "      <td>$53797</td>\n",
       "      <td>$109687</td>\n",
       "      <td>$183855</td>\n",
       "      <td>675</td>\n",
       "      <td>1</td>\n",
       "    </tr>\n",
       "  </tbody>\n",
       "</table>\n",
       "</div>"
      ],
      "text/plain": [
       "     id  current_age  retirement_age  birth_year  birth_month  gender  \\\n",
       "0   825           53              66        1966           11  Female   \n",
       "1  1746           53              68        1966           12  Female   \n",
       "2  1718           81              67        1938           11  Female   \n",
       "3   708           63              63        1957            1  Female   \n",
       "4  1164           43              70        1976            9    Male   \n",
       "\n",
       "                    address  latitude  longitude per_capita_income  \\\n",
       "0             462 Rose Lane     34.15    -117.76            $29278   \n",
       "1    3606 Federal Boulevard     40.76     -73.74            $37891   \n",
       "2           766 Third Drive     34.02    -117.89            $22681   \n",
       "3          3 Madison Street     40.71     -73.99           $163145   \n",
       "4  9620 Valley Stream Drive     37.76    -122.44            $53797   \n",
       "\n",
       "  yearly_income total_debt  credit_score  num_credit_cards  \n",
       "0        $59696    $127613           787                 5  \n",
       "1        $77254    $191349           701                 5  \n",
       "2        $33483       $196           698                 5  \n",
       "3       $249925    $202328           722                 4  \n",
       "4       $109687    $183855           675                 1  "
      ]
     },
     "execution_count": 11,
     "metadata": {},
     "output_type": "execute_result"
    }
   ],
   "source": [
    "# show head of users data\n",
    "users.head()"
   ]
  },
  {
   "cell_type": "code",
   "execution_count": 12,
   "id": "1a88de59",
   "metadata": {},
   "outputs": [
    {
     "data": {
      "text/plain": [
       "np.int64(0)"
      ]
     },
     "execution_count": 12,
     "metadata": {},
     "output_type": "execute_result"
    }
   ],
   "source": [
    "# check duplicated value\n",
    "cards.duplicated().sum()"
   ]
  },
  {
   "cell_type": "code",
   "execution_count": 13,
   "id": "991ed779",
   "metadata": {},
   "outputs": [
    {
     "data": {
      "text/plain": [
       "id                       0\n",
       "client_id                0\n",
       "card_brand               0\n",
       "card_type                0\n",
       "card_number              0\n",
       "expires                  0\n",
       "cvv                      0\n",
       "has_chip                 0\n",
       "num_cards_issued         0\n",
       "credit_limit             0\n",
       "acct_open_date           0\n",
       "year_pin_last_changed    0\n",
       "card_on_dark_web         0\n",
       "dtype: int64"
      ]
     },
     "execution_count": 13,
     "metadata": {},
     "output_type": "execute_result"
    }
   ],
   "source": [
    "# check missing value\n",
    "cards.isna().sum()"
   ]
  },
  {
   "cell_type": "code",
   "execution_count": 14,
   "id": "894902a0",
   "metadata": {},
   "outputs": [],
   "source": [
    "# remove dolars symbols \n",
    "users['per_capita_income'] = users['per_capita_income'].str.replace('$', '').astype(int)\n",
    "users['yearly_income'] = users['yearly_income'].str.replace('$', '').astype(int)\n",
    "users['total_debt'] = users['total_debt'].str.replace('$', '').astype(int)"
   ]
  },
  {
   "cell_type": "code",
   "execution_count": 15,
   "id": "396e96c2",
   "metadata": {},
   "outputs": [
    {
     "name": "stdout",
     "output_type": "stream",
     "text": [
      "<class 'pandas.core.frame.DataFrame'>\n",
      "RangeIndex: 2000 entries, 0 to 1999\n",
      "Data columns (total 14 columns):\n",
      " #   Column             Non-Null Count  Dtype  \n",
      "---  ------             --------------  -----  \n",
      " 0   id                 2000 non-null   int64  \n",
      " 1   current_age        2000 non-null   int64  \n",
      " 2   retirement_age     2000 non-null   int64  \n",
      " 3   birth_year         2000 non-null   int64  \n",
      " 4   birth_month        2000 non-null   int64  \n",
      " 5   gender             2000 non-null   object \n",
      " 6   address            2000 non-null   object \n",
      " 7   latitude           2000 non-null   float64\n",
      " 8   longitude          2000 non-null   float64\n",
      " 9   per_capita_income  2000 non-null   int64  \n",
      " 10  yearly_income      2000 non-null   int64  \n",
      " 11  total_debt         2000 non-null   int64  \n",
      " 12  credit_score       2000 non-null   int64  \n",
      " 13  num_credit_cards   2000 non-null   int64  \n",
      "dtypes: float64(2), int64(10), object(2)\n",
      "memory usage: 218.9+ KB\n"
     ]
    }
   ],
   "source": [
    "users.info()"
   ]
  },
  {
   "cell_type": "code",
   "execution_count": 17,
   "id": "278dfebe",
   "metadata": {},
   "outputs": [
    {
     "data": {
      "text/plain": [
       "gender\n",
       "Female    1016\n",
       "Male       984\n",
       "Name: count, dtype: int64"
      ]
     },
     "execution_count": 17,
     "metadata": {},
     "output_type": "execute_result"
    }
   ],
   "source": [
    "users.gender.value_counts()"
   ]
  },
  {
   "cell_type": "code",
   "execution_count": 18,
   "id": "4fc5d45c",
   "metadata": {},
   "outputs": [
    {
     "data": {
      "text/html": [
       "<div>\n",
       "<style scoped>\n",
       "    .dataframe tbody tr th:only-of-type {\n",
       "        vertical-align: middle;\n",
       "    }\n",
       "\n",
       "    .dataframe tbody tr th {\n",
       "        vertical-align: top;\n",
       "    }\n",
       "\n",
       "    .dataframe thead th {\n",
       "        text-align: right;\n",
       "    }\n",
       "</style>\n",
       "<table border=\"1\" class=\"dataframe\">\n",
       "  <thead>\n",
       "    <tr style=\"text-align: right;\">\n",
       "      <th></th>\n",
       "      <th>count</th>\n",
       "      <th>mean</th>\n",
       "      <th>std</th>\n",
       "      <th>min</th>\n",
       "      <th>25%</th>\n",
       "      <th>50%</th>\n",
       "      <th>75%</th>\n",
       "      <th>max</th>\n",
       "    </tr>\n",
       "  </thead>\n",
       "  <tbody>\n",
       "    <tr>\n",
       "      <th>id</th>\n",
       "      <td>2000.0</td>\n",
       "      <td>999.50</td>\n",
       "      <td>577.49</td>\n",
       "      <td>0.00</td>\n",
       "      <td>499.75</td>\n",
       "      <td>999.50</td>\n",
       "      <td>1499.25</td>\n",
       "      <td>1999.00</td>\n",
       "    </tr>\n",
       "    <tr>\n",
       "      <th>current_age</th>\n",
       "      <td>2000.0</td>\n",
       "      <td>45.39</td>\n",
       "      <td>18.41</td>\n",
       "      <td>18.00</td>\n",
       "      <td>30.00</td>\n",
       "      <td>44.00</td>\n",
       "      <td>58.00</td>\n",
       "      <td>101.00</td>\n",
       "    </tr>\n",
       "    <tr>\n",
       "      <th>retirement_age</th>\n",
       "      <td>2000.0</td>\n",
       "      <td>66.24</td>\n",
       "      <td>3.63</td>\n",
       "      <td>50.00</td>\n",
       "      <td>65.00</td>\n",
       "      <td>66.00</td>\n",
       "      <td>68.00</td>\n",
       "      <td>79.00</td>\n",
       "    </tr>\n",
       "    <tr>\n",
       "      <th>birth_year</th>\n",
       "      <td>2000.0</td>\n",
       "      <td>1973.80</td>\n",
       "      <td>18.42</td>\n",
       "      <td>1918.00</td>\n",
       "      <td>1961.00</td>\n",
       "      <td>1975.00</td>\n",
       "      <td>1989.00</td>\n",
       "      <td>2002.00</td>\n",
       "    </tr>\n",
       "    <tr>\n",
       "      <th>birth_month</th>\n",
       "      <td>2000.0</td>\n",
       "      <td>6.44</td>\n",
       "      <td>3.57</td>\n",
       "      <td>1.00</td>\n",
       "      <td>3.00</td>\n",
       "      <td>7.00</td>\n",
       "      <td>10.00</td>\n",
       "      <td>12.00</td>\n",
       "    </tr>\n",
       "    <tr>\n",
       "      <th>latitude</th>\n",
       "      <td>2000.0</td>\n",
       "      <td>37.39</td>\n",
       "      <td>5.11</td>\n",
       "      <td>20.88</td>\n",
       "      <td>33.84</td>\n",
       "      <td>38.25</td>\n",
       "      <td>41.20</td>\n",
       "      <td>61.20</td>\n",
       "    </tr>\n",
       "    <tr>\n",
       "      <th>longitude</th>\n",
       "      <td>2000.0</td>\n",
       "      <td>-91.55</td>\n",
       "      <td>16.28</td>\n",
       "      <td>-159.41</td>\n",
       "      <td>-97.40</td>\n",
       "      <td>-86.44</td>\n",
       "      <td>-80.13</td>\n",
       "      <td>-68.67</td>\n",
       "    </tr>\n",
       "    <tr>\n",
       "      <th>per_capita_income</th>\n",
       "      <td>2000.0</td>\n",
       "      <td>23141.93</td>\n",
       "      <td>11324.14</td>\n",
       "      <td>0.00</td>\n",
       "      <td>16824.50</td>\n",
       "      <td>20581.00</td>\n",
       "      <td>26286.00</td>\n",
       "      <td>163145.00</td>\n",
       "    </tr>\n",
       "    <tr>\n",
       "      <th>yearly_income</th>\n",
       "      <td>2000.0</td>\n",
       "      <td>45715.88</td>\n",
       "      <td>22992.62</td>\n",
       "      <td>1.00</td>\n",
       "      <td>32818.50</td>\n",
       "      <td>40744.50</td>\n",
       "      <td>52698.50</td>\n",
       "      <td>307018.00</td>\n",
       "    </tr>\n",
       "    <tr>\n",
       "      <th>total_debt</th>\n",
       "      <td>2000.0</td>\n",
       "      <td>63709.69</td>\n",
       "      <td>52254.45</td>\n",
       "      <td>0.00</td>\n",
       "      <td>23986.75</td>\n",
       "      <td>58251.00</td>\n",
       "      <td>89070.50</td>\n",
       "      <td>516263.00</td>\n",
       "    </tr>\n",
       "    <tr>\n",
       "      <th>credit_score</th>\n",
       "      <td>2000.0</td>\n",
       "      <td>709.73</td>\n",
       "      <td>67.22</td>\n",
       "      <td>480.00</td>\n",
       "      <td>681.00</td>\n",
       "      <td>711.50</td>\n",
       "      <td>753.00</td>\n",
       "      <td>850.00</td>\n",
       "    </tr>\n",
       "    <tr>\n",
       "      <th>num_credit_cards</th>\n",
       "      <td>2000.0</td>\n",
       "      <td>3.07</td>\n",
       "      <td>1.64</td>\n",
       "      <td>1.00</td>\n",
       "      <td>2.00</td>\n",
       "      <td>3.00</td>\n",
       "      <td>4.00</td>\n",
       "      <td>9.00</td>\n",
       "    </tr>\n",
       "  </tbody>\n",
       "</table>\n",
       "</div>"
      ],
      "text/plain": [
       "                    count      mean       std      min       25%       50%  \\\n",
       "id                 2000.0    999.50    577.49     0.00    499.75    999.50   \n",
       "current_age        2000.0     45.39     18.41    18.00     30.00     44.00   \n",
       "retirement_age     2000.0     66.24      3.63    50.00     65.00     66.00   \n",
       "birth_year         2000.0   1973.80     18.42  1918.00   1961.00   1975.00   \n",
       "birth_month        2000.0      6.44      3.57     1.00      3.00      7.00   \n",
       "latitude           2000.0     37.39      5.11    20.88     33.84     38.25   \n",
       "longitude          2000.0    -91.55     16.28  -159.41    -97.40    -86.44   \n",
       "per_capita_income  2000.0  23141.93  11324.14     0.00  16824.50  20581.00   \n",
       "yearly_income      2000.0  45715.88  22992.62     1.00  32818.50  40744.50   \n",
       "total_debt         2000.0  63709.69  52254.45     0.00  23986.75  58251.00   \n",
       "credit_score       2000.0    709.73     67.22   480.00    681.00    711.50   \n",
       "num_credit_cards   2000.0      3.07      1.64     1.00      2.00      3.00   \n",
       "\n",
       "                        75%        max  \n",
       "id                  1499.25    1999.00  \n",
       "current_age           58.00     101.00  \n",
       "retirement_age        68.00      79.00  \n",
       "birth_year          1989.00    2002.00  \n",
       "birth_month           10.00      12.00  \n",
       "latitude              41.20      61.20  \n",
       "longitude            -80.13     -68.67  \n",
       "per_capita_income  26286.00  163145.00  \n",
       "yearly_income      52698.50  307018.00  \n",
       "total_debt         89070.50  516263.00  \n",
       "credit_score         753.00     850.00  \n",
       "num_credit_cards       4.00       9.00  "
      ]
     },
     "execution_count": 18,
     "metadata": {},
     "output_type": "execute_result"
    }
   ],
   "source": [
    "users.describe().T.round(2)"
   ]
  },
  {
   "cell_type": "markdown",
   "id": "d8765f41",
   "metadata": {},
   "source": [
    "## Transactions Analysis"
   ]
  },
  {
   "cell_type": "code",
   "execution_count": 19,
   "id": "627e306d",
   "metadata": {},
   "outputs": [
    {
     "data": {
      "text/html": [
       "<div>\n",
       "<style scoped>\n",
       "    .dataframe tbody tr th:only-of-type {\n",
       "        vertical-align: middle;\n",
       "    }\n",
       "\n",
       "    .dataframe tbody tr th {\n",
       "        vertical-align: top;\n",
       "    }\n",
       "\n",
       "    .dataframe thead th {\n",
       "        text-align: right;\n",
       "    }\n",
       "</style>\n",
       "<table border=\"1\" class=\"dataframe\">\n",
       "  <thead>\n",
       "    <tr style=\"text-align: right;\">\n",
       "      <th></th>\n",
       "      <th>id</th>\n",
       "      <th>date</th>\n",
       "      <th>client_id</th>\n",
       "      <th>card_id</th>\n",
       "      <th>amount</th>\n",
       "      <th>use_chip</th>\n",
       "      <th>merchant_id</th>\n",
       "      <th>merchant_city</th>\n",
       "      <th>merchant_state</th>\n",
       "      <th>zip</th>\n",
       "      <th>mcc</th>\n",
       "      <th>errors</th>\n",
       "    </tr>\n",
       "  </thead>\n",
       "  <tbody>\n",
       "    <tr>\n",
       "      <th>0</th>\n",
       "      <td>7475327</td>\n",
       "      <td>2010-01-01 00:01:00</td>\n",
       "      <td>1556</td>\n",
       "      <td>2972</td>\n",
       "      <td>$-77.00</td>\n",
       "      <td>Swipe Transaction</td>\n",
       "      <td>59935</td>\n",
       "      <td>Beulah</td>\n",
       "      <td>ND</td>\n",
       "      <td>58523.0</td>\n",
       "      <td>5499</td>\n",
       "      <td>NaN</td>\n",
       "    </tr>\n",
       "    <tr>\n",
       "      <th>1</th>\n",
       "      <td>7475328</td>\n",
       "      <td>2010-01-01 00:02:00</td>\n",
       "      <td>561</td>\n",
       "      <td>4575</td>\n",
       "      <td>$14.57</td>\n",
       "      <td>Swipe Transaction</td>\n",
       "      <td>67570</td>\n",
       "      <td>Bettendorf</td>\n",
       "      <td>IA</td>\n",
       "      <td>52722.0</td>\n",
       "      <td>5311</td>\n",
       "      <td>NaN</td>\n",
       "    </tr>\n",
       "    <tr>\n",
       "      <th>2</th>\n",
       "      <td>7475329</td>\n",
       "      <td>2010-01-01 00:02:00</td>\n",
       "      <td>1129</td>\n",
       "      <td>102</td>\n",
       "      <td>$80.00</td>\n",
       "      <td>Swipe Transaction</td>\n",
       "      <td>27092</td>\n",
       "      <td>Vista</td>\n",
       "      <td>CA</td>\n",
       "      <td>92084.0</td>\n",
       "      <td>4829</td>\n",
       "      <td>NaN</td>\n",
       "    </tr>\n",
       "    <tr>\n",
       "      <th>3</th>\n",
       "      <td>7475331</td>\n",
       "      <td>2010-01-01 00:05:00</td>\n",
       "      <td>430</td>\n",
       "      <td>2860</td>\n",
       "      <td>$200.00</td>\n",
       "      <td>Swipe Transaction</td>\n",
       "      <td>27092</td>\n",
       "      <td>Crown Point</td>\n",
       "      <td>IN</td>\n",
       "      <td>46307.0</td>\n",
       "      <td>4829</td>\n",
       "      <td>NaN</td>\n",
       "    </tr>\n",
       "    <tr>\n",
       "      <th>4</th>\n",
       "      <td>7475332</td>\n",
       "      <td>2010-01-01 00:06:00</td>\n",
       "      <td>848</td>\n",
       "      <td>3915</td>\n",
       "      <td>$46.41</td>\n",
       "      <td>Swipe Transaction</td>\n",
       "      <td>13051</td>\n",
       "      <td>Harwood</td>\n",
       "      <td>MD</td>\n",
       "      <td>20776.0</td>\n",
       "      <td>5813</td>\n",
       "      <td>NaN</td>\n",
       "    </tr>\n",
       "  </tbody>\n",
       "</table>\n",
       "</div>"
      ],
      "text/plain": [
       "        id                 date  client_id  card_id   amount  \\\n",
       "0  7475327  2010-01-01 00:01:00       1556     2972  $-77.00   \n",
       "1  7475328  2010-01-01 00:02:00        561     4575   $14.57   \n",
       "2  7475329  2010-01-01 00:02:00       1129      102   $80.00   \n",
       "3  7475331  2010-01-01 00:05:00        430     2860  $200.00   \n",
       "4  7475332  2010-01-01 00:06:00        848     3915   $46.41   \n",
       "\n",
       "            use_chip  merchant_id merchant_city merchant_state      zip   mcc  \\\n",
       "0  Swipe Transaction        59935        Beulah             ND  58523.0  5499   \n",
       "1  Swipe Transaction        67570    Bettendorf             IA  52722.0  5311   \n",
       "2  Swipe Transaction        27092         Vista             CA  92084.0  4829   \n",
       "3  Swipe Transaction        27092   Crown Point             IN  46307.0  4829   \n",
       "4  Swipe Transaction        13051       Harwood             MD  20776.0  5813   \n",
       "\n",
       "  errors  \n",
       "0    NaN  \n",
       "1    NaN  \n",
       "2    NaN  \n",
       "3    NaN  \n",
       "4    NaN  "
      ]
     },
     "execution_count": 19,
     "metadata": {},
     "output_type": "execute_result"
    }
   ],
   "source": [
    "transactions.head()"
   ]
  },
  {
   "cell_type": "code",
   "execution_count": null,
   "id": "beeba798",
   "metadata": {},
   "outputs": [
    {
     "data": {
      "text/plain": [
       "(13305915, 12)"
      ]
     },
     "execution_count": 36,
     "metadata": {},
     "output_type": "execute_result"
    }
   ],
   "source": [
    "# check sahpe of data\n",
    "transactions.shape"
   ]
  },
  {
   "cell_type": "code",
   "execution_count": 20,
   "id": "19de90c7",
   "metadata": {},
   "outputs": [
    {
     "data": {
      "text/plain": [
       "np.int64(0)"
      ]
     },
     "execution_count": 20,
     "metadata": {},
     "output_type": "execute_result"
    }
   ],
   "source": [
    "# check duplicated value\n",
    "transactions.duplicated().sum()"
   ]
  },
  {
   "cell_type": "code",
   "execution_count": 21,
   "id": "8ac2440d",
   "metadata": {},
   "outputs": [
    {
     "data": {
      "text/plain": [
       "id                       0\n",
       "date                     0\n",
       "client_id                0\n",
       "card_id                  0\n",
       "amount                   0\n",
       "use_chip                 0\n",
       "merchant_id              0\n",
       "merchant_city            0\n",
       "merchant_state     1563700\n",
       "zip                1652706\n",
       "mcc                      0\n",
       "errors            13094522\n",
       "dtype: int64"
      ]
     },
     "execution_count": 21,
     "metadata": {},
     "output_type": "execute_result"
    }
   ],
   "source": [
    "# check missing value\n",
    "transactions.isna().sum()"
   ]
  },
  {
   "cell_type": "code",
   "execution_count": null,
   "id": "10b256c2",
   "metadata": {},
   "outputs": [],
   "source": [
    "# remove dolars symbol and change data type to float\n",
    "transactions['amount'] = transactions['amount'].str.replace('$', '').astype(float)"
   ]
  },
  {
   "cell_type": "code",
   "execution_count": 23,
   "id": "b35b5d9e",
   "metadata": {},
   "outputs": [],
   "source": [
    "# change data type of date\n",
    "transactions['date'] = pd.to_datetime(transactions['date'])"
   ]
  },
  {
   "cell_type": "code",
   "execution_count": 24,
   "id": "2b03b80a",
   "metadata": {},
   "outputs": [],
   "source": [
    "# change data type of zip to integer\n",
    "transactions['zip'] = transactions['zip'].astype(\"Int64\")"
   ]
  },
  {
   "cell_type": "code",
   "execution_count": 25,
   "id": "c8854442",
   "metadata": {},
   "outputs": [
    {
     "name": "stdout",
     "output_type": "stream",
     "text": [
      "<class 'pandas.core.frame.DataFrame'>\n",
      "RangeIndex: 13305915 entries, 0 to 13305914\n",
      "Data columns (total 12 columns):\n",
      " #   Column          Dtype         \n",
      "---  ------          -----         \n",
      " 0   id              int64         \n",
      " 1   date            datetime64[ns]\n",
      " 2   client_id       int64         \n",
      " 3   card_id         int64         \n",
      " 4   amount          float64       \n",
      " 5   use_chip        object        \n",
      " 6   merchant_id     int64         \n",
      " 7   merchant_city   object        \n",
      " 8   merchant_state  object        \n",
      " 9   zip             Int64         \n",
      " 10  mcc             int64         \n",
      " 11  errors          object        \n",
      "dtypes: Int64(1), datetime64[ns](1), float64(1), int64(5), object(4)\n",
      "memory usage: 1.2+ GB\n"
     ]
    }
   ],
   "source": [
    "transactions.info()"
   ]
  },
  {
   "cell_type": "code",
   "execution_count": 26,
   "id": "fbad45c7",
   "metadata": {},
   "outputs": [
    {
     "data": {
      "text/plain": [
       "id                         int64\n",
       "date              datetime64[ns]\n",
       "client_id                  int64\n",
       "card_id                    int64\n",
       "amount                   float64\n",
       "use_chip                  object\n",
       "merchant_id                int64\n",
       "merchant_city             object\n",
       "merchant_state            object\n",
       "zip                        Int64\n",
       "mcc                        int64\n",
       "errors                    object\n",
       "dtype: object"
      ]
     },
     "execution_count": 26,
     "metadata": {},
     "output_type": "execute_result"
    }
   ],
   "source": [
    "transactions.dtypes"
   ]
  },
  {
   "cell_type": "code",
   "execution_count": 27,
   "id": "07cb2ca2",
   "metadata": {},
   "outputs": [
    {
     "name": "stdout",
     "output_type": "stream",
     "text": [
      "merchant_state\n",
      "NaN           1563700\n",
      "CA            1427087\n",
      "TX            1010207\n",
      "NY             857510\n",
      "FL             701623\n",
      "               ...   \n",
      "Ethiopia            3\n",
      "Suriname            3\n",
      "Gabon               3\n",
      "Tonga               2\n",
      "Azerbaijan          2\n",
      "Name: count, Length: 200, dtype: int64\n",
      "\n",
      "\n",
      "use_chip\n",
      "Swipe Transaction     6967185\n",
      "Chip Transaction      4780818\n",
      "Online Transaction    1557912\n",
      "Name: count, dtype: int64\n",
      "\n",
      "\n",
      "merchant_city\n",
      "ONLINE           1563700\n",
      "Houston           146917\n",
      "Miami              87388\n",
      "Brooklyn           84020\n",
      "Los Angeles        82004\n",
      "                  ...   \n",
      "Burnett                1\n",
      "Weaubleau              1\n",
      "Slemp                  1\n",
      "Cornettsville          1\n",
      "London Mills           1\n",
      "Name: count, Length: 12492, dtype: int64\n",
      "\n",
      "\n",
      "merchant_state\n",
      "NaN           1563700\n",
      "CA            1427087\n",
      "TX            1010207\n",
      "NY             857510\n",
      "FL             701623\n",
      "               ...   \n",
      "Ethiopia            3\n",
      "Suriname            3\n",
      "Gabon               3\n",
      "Tonga               2\n",
      "Azerbaijan          2\n",
      "Name: count, Length: 200, dtype: int64\n",
      "\n",
      "\n"
     ]
    }
   ],
   "source": [
    "for col in ['merchant_state' , 'use_chip', 'merchant_city', 'merchant_state']:\n",
    "  print(transactions[col].value_counts(dropna=False))\n",
    "  print('\\n')"
   ]
  },
  {
   "cell_type": "code",
   "execution_count": 28,
   "id": "f8943a55",
   "metadata": {},
   "outputs": [
    {
     "data": {
      "text/html": [
       "<div>\n",
       "<style scoped>\n",
       "    .dataframe tbody tr th:only-of-type {\n",
       "        vertical-align: middle;\n",
       "    }\n",
       "\n",
       "    .dataframe tbody tr th {\n",
       "        vertical-align: top;\n",
       "    }\n",
       "\n",
       "    .dataframe thead th {\n",
       "        text-align: right;\n",
       "    }\n",
       "</style>\n",
       "<table border=\"1\" class=\"dataframe\">\n",
       "  <thead>\n",
       "    <tr style=\"text-align: right;\">\n",
       "      <th></th>\n",
       "      <th>id</th>\n",
       "      <th>date</th>\n",
       "      <th>client_id</th>\n",
       "      <th>card_id</th>\n",
       "      <th>amount</th>\n",
       "      <th>use_chip</th>\n",
       "      <th>merchant_id</th>\n",
       "      <th>merchant_city</th>\n",
       "      <th>merchant_state</th>\n",
       "      <th>zip</th>\n",
       "      <th>mcc</th>\n",
       "      <th>errors</th>\n",
       "    </tr>\n",
       "  </thead>\n",
       "  <tbody>\n",
       "    <tr>\n",
       "      <th>0</th>\n",
       "      <td>7475327</td>\n",
       "      <td>2010-01-01 00:01:00</td>\n",
       "      <td>1556</td>\n",
       "      <td>2972</td>\n",
       "      <td>-77.00</td>\n",
       "      <td>Swipe Transaction</td>\n",
       "      <td>59935</td>\n",
       "      <td>Beulah</td>\n",
       "      <td>ND</td>\n",
       "      <td>58523</td>\n",
       "      <td>5499</td>\n",
       "      <td>NaN</td>\n",
       "    </tr>\n",
       "    <tr>\n",
       "      <th>1</th>\n",
       "      <td>7475328</td>\n",
       "      <td>2010-01-01 00:02:00</td>\n",
       "      <td>561</td>\n",
       "      <td>4575</td>\n",
       "      <td>14.57</td>\n",
       "      <td>Swipe Transaction</td>\n",
       "      <td>67570</td>\n",
       "      <td>Bettendorf</td>\n",
       "      <td>IA</td>\n",
       "      <td>52722</td>\n",
       "      <td>5311</td>\n",
       "      <td>NaN</td>\n",
       "    </tr>\n",
       "    <tr>\n",
       "      <th>2</th>\n",
       "      <td>7475329</td>\n",
       "      <td>2010-01-01 00:02:00</td>\n",
       "      <td>1129</td>\n",
       "      <td>102</td>\n",
       "      <td>80.00</td>\n",
       "      <td>Swipe Transaction</td>\n",
       "      <td>27092</td>\n",
       "      <td>Vista</td>\n",
       "      <td>CA</td>\n",
       "      <td>92084</td>\n",
       "      <td>4829</td>\n",
       "      <td>NaN</td>\n",
       "    </tr>\n",
       "    <tr>\n",
       "      <th>3</th>\n",
       "      <td>7475331</td>\n",
       "      <td>2010-01-01 00:05:00</td>\n",
       "      <td>430</td>\n",
       "      <td>2860</td>\n",
       "      <td>200.00</td>\n",
       "      <td>Swipe Transaction</td>\n",
       "      <td>27092</td>\n",
       "      <td>Crown Point</td>\n",
       "      <td>IN</td>\n",
       "      <td>46307</td>\n",
       "      <td>4829</td>\n",
       "      <td>NaN</td>\n",
       "    </tr>\n",
       "    <tr>\n",
       "      <th>4</th>\n",
       "      <td>7475332</td>\n",
       "      <td>2010-01-01 00:06:00</td>\n",
       "      <td>848</td>\n",
       "      <td>3915</td>\n",
       "      <td>46.41</td>\n",
       "      <td>Swipe Transaction</td>\n",
       "      <td>13051</td>\n",
       "      <td>Harwood</td>\n",
       "      <td>MD</td>\n",
       "      <td>20776</td>\n",
       "      <td>5813</td>\n",
       "      <td>NaN</td>\n",
       "    </tr>\n",
       "  </tbody>\n",
       "</table>\n",
       "</div>"
      ],
      "text/plain": [
       "        id                date  client_id  card_id  amount           use_chip  \\\n",
       "0  7475327 2010-01-01 00:01:00       1556     2972  -77.00  Swipe Transaction   \n",
       "1  7475328 2010-01-01 00:02:00        561     4575   14.57  Swipe Transaction   \n",
       "2  7475329 2010-01-01 00:02:00       1129      102   80.00  Swipe Transaction   \n",
       "3  7475331 2010-01-01 00:05:00        430     2860  200.00  Swipe Transaction   \n",
       "4  7475332 2010-01-01 00:06:00        848     3915   46.41  Swipe Transaction   \n",
       "\n",
       "   merchant_id merchant_city merchant_state    zip   mcc errors  \n",
       "0        59935        Beulah             ND  58523  5499    NaN  \n",
       "1        67570    Bettendorf             IA  52722  5311    NaN  \n",
       "2        27092         Vista             CA  92084  4829    NaN  \n",
       "3        27092   Crown Point             IN  46307  4829    NaN  \n",
       "4        13051       Harwood             MD  20776  5813    NaN  "
      ]
     },
     "execution_count": 28,
     "metadata": {},
     "output_type": "execute_result"
    }
   ],
   "source": [
    "transactions.head()"
   ]
  },
  {
   "cell_type": "code",
   "execution_count": 71,
   "id": "c534d0ae",
   "metadata": {},
   "outputs": [
    {
     "data": {
      "text/html": [
       "<div>\n",
       "<style scoped>\n",
       "    .dataframe tbody tr th:only-of-type {\n",
       "        vertical-align: middle;\n",
       "    }\n",
       "\n",
       "    .dataframe tbody tr th {\n",
       "        vertical-align: top;\n",
       "    }\n",
       "\n",
       "    .dataframe thead th {\n",
       "        text-align: right;\n",
       "    }\n",
       "</style>\n",
       "<table border=\"1\" class=\"dataframe\">\n",
       "  <thead>\n",
       "    <tr style=\"text-align: right;\">\n",
       "      <th></th>\n",
       "      <th>count</th>\n",
       "      <th>mean</th>\n",
       "      <th>min</th>\n",
       "      <th>25%</th>\n",
       "      <th>50%</th>\n",
       "      <th>75%</th>\n",
       "      <th>max</th>\n",
       "      <th>std</th>\n",
       "    </tr>\n",
       "  </thead>\n",
       "  <tbody>\n",
       "    <tr>\n",
       "      <th>id</th>\n",
       "      <td>13305915.0</td>\n",
       "      <td>15584024.565584</td>\n",
       "      <td>7475327.0</td>\n",
       "      <td>11506044.5</td>\n",
       "      <td>15570866.0</td>\n",
       "      <td>19653605.5</td>\n",
       "      <td>23761874.0</td>\n",
       "      <td>4704498.649443</td>\n",
       "    </tr>\n",
       "    <tr>\n",
       "      <th>date</th>\n",
       "      <td>13305915</td>\n",
       "      <td>2015-01-06 06:50:27.604354816</td>\n",
       "      <td>2010-01-01 00:01:00</td>\n",
       "      <td>2012-08-08 21:43:00</td>\n",
       "      <td>2015-01-22 12:17:00</td>\n",
       "      <td>2017-06-13 17:45:00</td>\n",
       "      <td>2019-10-31 23:59:00</td>\n",
       "      <td>NaN</td>\n",
       "    </tr>\n",
       "    <tr>\n",
       "      <th>client_id</th>\n",
       "      <td>13305915.0</td>\n",
       "      <td>1026.812046</td>\n",
       "      <td>0.0</td>\n",
       "      <td>519.0</td>\n",
       "      <td>1070.0</td>\n",
       "      <td>1531.0</td>\n",
       "      <td>1998.0</td>\n",
       "      <td>581.638559</td>\n",
       "    </tr>\n",
       "    <tr>\n",
       "      <th>card_id</th>\n",
       "      <td>13305915.0</td>\n",
       "      <td>3475.267651</td>\n",
       "      <td>0.0</td>\n",
       "      <td>2413.0</td>\n",
       "      <td>3584.0</td>\n",
       "      <td>4901.0</td>\n",
       "      <td>6144.0</td>\n",
       "      <td>1674.355912</td>\n",
       "    </tr>\n",
       "    <tr>\n",
       "      <th>amount</th>\n",
       "      <td>13305915.0</td>\n",
       "      <td>42.976039</td>\n",
       "      <td>-500.0</td>\n",
       "      <td>8.93</td>\n",
       "      <td>28.99</td>\n",
       "      <td>63.71</td>\n",
       "      <td>6820.2</td>\n",
       "      <td>81.655748</td>\n",
       "    </tr>\n",
       "    <tr>\n",
       "      <th>merchant_id</th>\n",
       "      <td>13305915.0</td>\n",
       "      <td>47723.763181</td>\n",
       "      <td>1.0</td>\n",
       "      <td>25887.0</td>\n",
       "      <td>45926.0</td>\n",
       "      <td>67570.0</td>\n",
       "      <td>100342.0</td>\n",
       "      <td>25815.337691</td>\n",
       "    </tr>\n",
       "    <tr>\n",
       "      <th>zip</th>\n",
       "      <td>11653209.0</td>\n",
       "      <td>51327.819831</td>\n",
       "      <td>1001.0</td>\n",
       "      <td>28602.0</td>\n",
       "      <td>47670.0</td>\n",
       "      <td>77901.0</td>\n",
       "      <td>99928.0</td>\n",
       "      <td>29404.225234</td>\n",
       "    </tr>\n",
       "    <tr>\n",
       "      <th>mcc</th>\n",
       "      <td>13305915.0</td>\n",
       "      <td>5565.439815</td>\n",
       "      <td>1711.0</td>\n",
       "      <td>5300.0</td>\n",
       "      <td>5499.0</td>\n",
       "      <td>5812.0</td>\n",
       "      <td>9402.0</td>\n",
       "      <td>875.700238</td>\n",
       "    </tr>\n",
       "  </tbody>\n",
       "</table>\n",
       "</div>"
      ],
      "text/plain": [
       "                  count                           mean                  min  \\\n",
       "id           13305915.0                15584024.565584            7475327.0   \n",
       "date           13305915  2015-01-06 06:50:27.604354816  2010-01-01 00:01:00   \n",
       "client_id    13305915.0                    1026.812046                  0.0   \n",
       "card_id      13305915.0                    3475.267651                  0.0   \n",
       "amount       13305915.0                      42.976039               -500.0   \n",
       "merchant_id  13305915.0                   47723.763181                  1.0   \n",
       "zip          11653209.0                   51327.819831               1001.0   \n",
       "mcc          13305915.0                    5565.439815               1711.0   \n",
       "\n",
       "                             25%                  50%                  75%  \\\n",
       "id                    11506044.5           15570866.0           19653605.5   \n",
       "date         2012-08-08 21:43:00  2015-01-22 12:17:00  2017-06-13 17:45:00   \n",
       "client_id                  519.0               1070.0               1531.0   \n",
       "card_id                   2413.0               3584.0               4901.0   \n",
       "amount                      8.93                28.99                63.71   \n",
       "merchant_id              25887.0              45926.0              67570.0   \n",
       "zip                      28602.0              47670.0              77901.0   \n",
       "mcc                       5300.0               5499.0               5812.0   \n",
       "\n",
       "                             max             std  \n",
       "id                    23761874.0  4704498.649443  \n",
       "date         2019-10-31 23:59:00             NaN  \n",
       "client_id                 1998.0      581.638559  \n",
       "card_id                   6144.0     1674.355912  \n",
       "amount                    6820.2       81.655748  \n",
       "merchant_id             100342.0    25815.337691  \n",
       "zip                      99928.0    29404.225234  \n",
       "mcc                       9402.0      875.700238  "
      ]
     },
     "execution_count": 71,
     "metadata": {},
     "output_type": "execute_result"
    }
   ],
   "source": [
    "transactions.describe().T"
   ]
  },
  {
   "cell_type": "markdown",
   "id": "31bd3d37",
   "metadata": {},
   "source": [
    "## SQL Analysis using Duckdb"
   ]
  },
  {
   "cell_type": "code",
   "execution_count": 73,
   "id": "5854a20b",
   "metadata": {},
   "outputs": [
    {
     "data": {
      "text/plain": [
       "┌───────┬─────────────┬────────────────┬────────────┬─────────────┬─────────┬────────────────────────┬──────────┬───────────┬───────────────────┬───────────────┬────────────┬──────────────┬──────────────────┐\n",
       "│  id   │ current_age │ retirement_age │ birth_year │ birth_month │ gender  │        address         │ latitude │ longitude │ per_capita_income │ yearly_income │ total_debt │ credit_score │ num_credit_cards │\n",
       "│ int64 │    int64    │     int64      │   int64    │    int64    │ varchar │        varchar         │  double  │  double   │       int64       │     int64     │   int64    │    int64     │      int64       │\n",
       "├───────┼─────────────┼────────────────┼────────────┼─────────────┼─────────┼────────────────────────┼──────────┼───────────┼───────────────────┼───────────────┼────────────┼──────────────┼──────────────────┤\n",
       "│  1325 │          23 │             66 │       1996 │           3 │ Female  │ 459 East Avenue        │    37.44 │    -122.2 │            150583 │        307018 │     516263 │          745 │                2 │\n",
       "│  1156 │          56 │             69 │       1963 │           6 │ Female  │ 9603 South Lane        │    40.74 │    -74.33 │            137428 │        280199 │      91367 │          752 │                5 │\n",
       "│   708 │          63 │             63 │       1957 │           1 │ Female  │ 3 Madison Street       │    40.71 │    -73.99 │            163145 │        249925 │     202328 │          722 │                4 │\n",
       "│   777 │          18 │             65 │       2002 │           1 │ Male    │ 970 Essex Drive        │    37.37 │   -122.21 │            106305 │        216740 │          0 │          700 │                2 │\n",
       "│  1014 │          54 │             70 │       1965 │           9 │ Female  │ 393 Mountain View Lane │     33.6 │   -117.82 │             96516 │        196784 │     437533 │          729 │                3 │\n",
       "│  1452 │          46 │             59 │       1973 │           5 │ Female  │ 524 Ocean Drive        │    29.76 │    -95.38 │             95039 │        193773 │     241571 │          660 │                1 │\n",
       "│   278 │          59 │             66 │       1960 │           9 │ Male    │ 910 Eighth Drive       │    29.76 │    -95.38 │             95039 │        193768 │     150896 │          686 │                5 │\n",
       "│  1259 │          64 │             69 │       1955 │           7 │ Female  │ 729 Littlewood Avenue  │    41.18 │    -73.42 │             94302 │        192269 │     100192 │          700 │                6 │\n",
       "│  1223 │          53 │             67 │       1966 │           6 │ Male    │ 822 Ocean Street       │     41.8 │    -87.92 │             92938 │        189490 │     448929 │          717 │                3 │\n",
       "│   700 │          21 │             68 │       1998 │          12 │ Female  │ 649 Second Avenue      │    40.71 │    -73.99 │             91487 │        186534 │     233746 │          590 │                1 │\n",
       "├───────┴─────────────┴────────────────┴────────────┴─────────────┴─────────┴────────────────────────┴──────────┴───────────┴───────────────────┴───────────────┴────────────┴──────────────┴──────────────────┤\n",
       "│ 10 rows                                                                                                                                                                                           14 columns │\n",
       "└──────────────────────────────────────────────────────────────────────────────────────────────────────────────────────────────────────────────────────────────────────────────────────────────────────────────┘"
      ]
     },
     "execution_count": 73,
     "metadata": {},
     "output_type": "execute_result"
    }
   ],
   "source": [
    "# siapa user yang mempunyai pendapatan tertinggi\n",
    "duckdb.sql('select * from users order by yearly_income desc limit 10')"
   ]
  },
  {
   "cell_type": "code",
   "execution_count": 75,
   "id": "f65d4427",
   "metadata": {},
   "outputs": [
    {
     "data": {
      "text/plain": [
       "┌───────┬─────────────┬────────────────┬────────────┬─────────────┬─────────┬───────────────────────────────┬──────────┬───────────┬───────────────────┬───────────────┬────────────┬──────────────┬──────────────────┐\n",
       "│  id   │ current_age │ retirement_age │ birth_year │ birth_month │ gender  │            address            │ latitude │ longitude │ per_capita_income │ yearly_income │ total_debt │ credit_score │ num_credit_cards │\n",
       "│ int64 │    int64    │     int64      │   int64    │    int64    │ varchar │            varchar            │  double  │  double   │       int64       │     int64     │   int64    │    int64     │      int64       │\n",
       "├───────┼─────────────┼────────────────┼────────────┼─────────────┼─────────┼───────────────────────────────┼──────────┼───────────┼───────────────────┼───────────────┼────────────┼──────────────┼──────────────────┤\n",
       "│  1325 │          23 │             66 │       1996 │           3 │ Female  │ 459 East Avenue               │    37.44 │    -122.2 │            150583 │        307018 │     516263 │          745 │                2 │\n",
       "│  1014 │          54 │             70 │       1965 │           9 │ Female  │ 393 Mountain View Lane        │     33.6 │   -117.82 │             96516 │        196784 │     437533 │          729 │                3 │\n",
       "│  1452 │          46 │             59 │       1973 │           5 │ Female  │ 524 Ocean Drive               │    29.76 │    -95.38 │             95039 │        193773 │     241571 │          660 │                1 │\n",
       "│  1223 │          53 │             67 │       1966 │           6 │ Male    │ 822 Ocean Street              │     41.8 │    -87.92 │             92938 │        189490 │     448929 │          717 │                3 │\n",
       "│   700 │          21 │             68 │       1998 │          12 │ Female  │ 649 Second Avenue             │    40.71 │    -73.99 │             91487 │        186534 │     233746 │          590 │                1 │\n",
       "│  1648 │          66 │             69 │       1953 │           5 │ Female  │ 211 Valley Street             │    40.76 │    -74.59 │             91180 │        185909 │     461854 │          621 │                5 │\n",
       "│   236 │          36 │             65 │       1983 │           3 │ Female  │ 4137 Bayview Drive            │     29.7 │    -95.46 │             79100 │        161276 │     317964 │          540 │                1 │\n",
       "│  1395 │          58 │             65 │       1961 │           9 │ Male    │ 2687 Burns Avenue             │    40.98 │    -74.11 │             75378 │        153691 │     197377 │          604 │                2 │\n",
       "│   453 │          26 │             67 │       1994 │           2 │ Female  │ 682 Martin Luther King Avenue │    32.79 │    -96.76 │             63159 │        128775 │     232506 │          655 │                1 │\n",
       "│   342 │          18 │             68 │       2001 │           6 │ Male    │ 3033 Maple Lane               │    38.94 │    -77.19 │             62840 │        128123 │     135808 │          699 │                1 │\n",
       "├───────┴─────────────┴────────────────┴────────────┴─────────────┴─────────┴───────────────────────────────┴──────────┴───────────┴───────────────────┴───────────────┴────────────┴──────────────┴──────────────────┤\n",
       "│ 10 rows                                                                                                                                                                                                  14 columns │\n",
       "└─────────────────────────────────────────────────────────────────────────────────────────────────────────────────────────────────────────────────────────────────────────────────────────────────────────────────────┘"
      ]
     },
     "execution_count": 75,
     "metadata": {},
     "output_type": "execute_result"
    }
   ],
   "source": [
    "duckdb.sql('select * from users where yearly_income < total_debt order by yearly_income desc limit 10')"
   ]
  },
  {
   "cell_type": "code",
   "execution_count": 76,
   "id": "ee538368",
   "metadata": {},
   "outputs": [
    {
     "data": {
      "text/plain": [
       "┌───────┬─────────────┬────────────────┬────────────┬─────────────┬─────────┬──────────────────────────┬──────────┬───────────┬───────────────────┬───────────────┬────────────┬──────────────┬──────────────────┬─────────────────┐\n",
       "│  id   │ current_age │ retirement_age │ birth_year │ birth_month │ gender  │         address          │ latitude │ longitude │ per_capita_income │ yearly_income │ total_debt │ credit_score │ num_credit_cards │ credit_category │\n",
       "│ int64 │    int64    │     int64      │   int64    │    int64    │ varchar │         varchar          │  double  │  double   │       int64       │     int64     │   int64    │    int64     │      int64       │     varchar     │\n",
       "├───────┼─────────────┼────────────────┼────────────┼─────────────┼─────────┼──────────────────────────┼──────────┼───────────┼───────────────────┼───────────────┼────────────┼──────────────┼──────────────────┼─────────────────┤\n",
       "│   825 │          53 │             66 │       1966 │          11 │ Female  │ 462 Rose Lane            │    34.15 │   -117.76 │             29278 │         59696 │     127613 │          787 │                5 │ very good       │\n",
       "│  1746 │          53 │             68 │       1966 │          12 │ Female  │ 3606 Federal Boulevard   │    40.76 │    -73.74 │             37891 │         77254 │     191349 │          701 │                5 │ good            │\n",
       "│  1718 │          81 │             67 │       1938 │          11 │ Female  │ 766 Third Drive          │    34.02 │   -117.89 │             22681 │         33483 │        196 │          698 │                5 │ good            │\n",
       "│   708 │          63 │             63 │       1957 │           1 │ Female  │ 3 Madison Street         │    40.71 │    -73.99 │            163145 │        249925 │     202328 │          722 │                4 │ good            │\n",
       "│  1164 │          43 │             70 │       1976 │           9 │ Male    │ 9620 Valley Stream Drive │    37.76 │   -122.44 │             53797 │        109687 │     183855 │          675 │                1 │ good            │\n",
       "│    68 │          42 │             70 │       1977 │          10 │ Male    │ 58 Birch Lane            │    41.55 │     -90.6 │             20599 │         41997 │          0 │          704 │                3 │ good            │\n",
       "│  1075 │          36 │             67 │       1983 │          12 │ Female  │ 5695 Fifth Street        │    38.22 │    -85.74 │             25258 │         51500 │     102286 │          672 │                3 │ good            │\n",
       "│  1711 │          26 │             67 │       1993 │          12 │ Male    │ 1941 Ninth Street        │    45.51 │   -122.64 │             26790 │         54623 │     114711 │          728 │                1 │ good            │\n",
       "│  1116 │          81 │             66 │       1938 │           7 │ Female  │ 11 Spruce Avenue         │    40.32 │    -75.32 │             26273 │         42509 │       2895 │          755 │                5 │ very good       │\n",
       "│  1752 │          34 │             60 │       1986 │           1 │ Female  │ 887 Grant Street         │    29.97 │    -92.12 │             18730 │         38190 │      81262 │          810 │                1 │ exceptional     │\n",
       "│    ·  │           · │              · │         ·  │           · │  ·      │        ·                 │      ·   │       ·   │               ·   │           ·   │        ·   │           ·  │                · │      ·          │\n",
       "│    ·  │           · │              · │         ·  │           · │  ·      │        ·                 │      ·   │       ·   │               ·   │           ·   │        ·   │           ·  │                · │      ·          │\n",
       "│    ·  │           · │              · │         ·  │           · │  ·      │        ·                 │      ·   │       ·   │               ·   │           ·   │        ·   │           ·  │                · │      ·          │\n",
       "│   932 │          67 │             69 │       1953 │           2 │ Male    │ 295 West Avenue          │    32.36 │    -92.97 │             16760 │         34172 │      71366 │          811 │                6 │ exceptional     │\n",
       "│   378 │          18 │             60 │       2001 │           5 │ Female  │ 512 Second Avenue        │    46.21 │   -119.16 │             18753 │         38241 │      81833 │          596 │                1 │ fair            │\n",
       "│   647 │          31 │             72 │       1988 │           7 │ Female  │ 27 Birch Avenue          │    36.52 │   -119.39 │             13194 │         26900 │      74083 │          758 │                2 │ very good       │\n",
       "│   391 │          85 │             66 │       1934 │           7 │ Female  │ 31 Hill Boulevard        │    33.69 │    -78.89 │             19025 │         35270 │       1769 │          731 │                6 │ good            │\n",
       "│   588 │          21 │             66 │       1998 │           6 │ Male    │ 2183 Catherine Boulevard │    38.47 │    -90.75 │             23106 │         47109 │      76035 │          844 │                3 │ exceptional     │\n",
       "│   986 │          32 │             70 │       1987 │           7 │ Male    │ 6577 Lexington Lane      │    40.65 │    -73.58 │             23550 │         48010 │      87837 │          703 │                3 │ good            │\n",
       "│  1944 │          62 │             65 │       1957 │          11 │ Female  │ 2 Elm Drive              │    38.95 │    -84.54 │             24218 │         49378 │     104480 │          740 │                4 │ very good       │\n",
       "│   185 │          47 │             67 │       1973 │           1 │ Female  │ 276 Fifth Boulevard      │    40.66 │    -74.19 │             15175 │         30942 │      71066 │          779 │                3 │ very good       │\n",
       "│  1007 │          66 │             60 │       1954 │           2 │ Male    │ 259 Valley Boulevard     │    40.24 │    -76.92 │             25336 │         54654 │      27241 │          618 │                1 │ fair            │\n",
       "│  1110 │          21 │             60 │       1998 │          11 │ Female  │ 472 Ocean View Street    │    42.86 │    -71.48 │             32325 │         65909 │     181261 │          673 │                2 │ good            │\n",
       "├───────┴─────────────┴────────────────┴────────────┴─────────────┴─────────┴──────────────────────────┴──────────┴───────────┴───────────────────┴───────────────┴────────────┴──────────────┴──────────────────┴─────────────────┤\n",
       "│ 2000 rows (20 shown)                                                                                                                                                                                                  15 columns │\n",
       "└──────────────────────────────────────────────────────────────────────────────────────────────────────────────────────────────────────────────────────────────────────────────────────────────────────────────────────────────────┘"
      ]
     },
     "execution_count": 76,
     "metadata": {},
     "output_type": "execute_result"
    }
   ],
   "source": [
    "# category credit score\n",
    "duckdb.sql('''\n",
    "select \n",
    "    *,\n",
    "    case \n",
    "      when credit_score between 300 and 579 then 'poor' \n",
    "      when credit_score between 580 and 669 then 'fair' \n",
    "      when credit_score between 670 and 739 then 'good' \n",
    "      when credit_score between 740 and 799 then 'very good' \n",
    "      when credit_score between 800 and 850 then 'exceptional'\n",
    "      else 'others'\n",
    "    end as credit_category\n",
    "from \n",
    "    users\n",
    "''')"
   ]
  },
  {
   "cell_type": "code",
   "execution_count": 77,
   "id": "60f80c09",
   "metadata": {},
   "outputs": [
    {
     "data": {
      "text/plain": [
       "┌─────────────────┬──────────────┐\n",
       "│ credit_category │ total_amount │\n",
       "│     varchar     │    double    │\n",
       "├─────────────────┼──────────────┤\n",
       "│ very good       │ 142520958.64 │\n",
       "│ exceptional     │  46738144.43 │\n",
       "│ poor            │  21801036.03 │\n",
       "│ fair            │  83174343.51 │\n",
       "│ good            │ 277601039.67 │\n",
       "└─────────────────┴──────────────┘"
      ]
     },
     "execution_count": 77,
     "metadata": {},
     "output_type": "execute_result"
    }
   ],
   "source": [
    "duckdb.sql('''\n",
    "with user_clean as (\n",
    "select \n",
    "    *,\n",
    "    case \n",
    "      when credit_score between 300 and 579 then 'poor' \n",
    "      when credit_score between 580 and 669 then 'fair' \n",
    "      when credit_score between 670 and 739 then 'good' \n",
    "      when credit_score between 740 and 799 then 'very good' \n",
    "      when credit_score between 800 and 850 then 'exceptional'\n",
    "      else 'others'\n",
    "    end as credit_category\n",
    "from \n",
    "    users )\n",
    "\n",
    "select\n",
    "    u.credit_category,\n",
    "    round(sum(amount), 2) as total_amount\n",
    "from \n",
    "    transactions t \n",
    "join user_clean u\n",
    "on t.client_id = u.id\n",
    "group by u.credit_category\n",
    "''')\n"
   ]
  },
  {
   "cell_type": "code",
   "execution_count": null,
   "id": "35d3860e",
   "metadata": {},
   "outputs": [],
   "source": []
  },
  {
   "cell_type": "markdown",
   "id": "c7ff765e",
   "metadata": {},
   "source": [
    "### Mendapatkan chip yang paling sering digunakan "
   ]
  },
  {
   "cell_type": "code",
   "execution_count": 37,
   "id": "56d7074b",
   "metadata": {},
   "outputs": [
    {
     "data": {
      "text/plain": [
       "┌────────────────────┬─────────────┐\n",
       "│      use_chip      │ count_trans │\n",
       "│      varchar       │    int64    │\n",
       "├────────────────────┼─────────────┤\n",
       "│ Swipe Transaction  │     6967185 │\n",
       "│ Chip Transaction   │     4780818 │\n",
       "│ Online Transaction │     1557912 │\n",
       "└────────────────────┴─────────────┘"
      ]
     },
     "execution_count": 37,
     "metadata": {},
     "output_type": "execute_result"
    }
   ],
   "source": [
    "duckdb.sql('''\n",
    "select \n",
    "    use_chip,\n",
    "    count(*) as count_trans\n",
    "from \n",
    "    transactions\n",
    "group by use_chip\n",
    "order by count(*) desc\n",
    "''')"
   ]
  },
  {
   "cell_type": "markdown",
   "id": "78cc7efb",
   "metadata": {},
   "source": [
    "### Distribusi umur yang paling sering melakukan transaksi"
   ]
  },
  {
   "cell_type": "code",
   "execution_count": 41,
   "id": "23f681c5",
   "metadata": {},
   "outputs": [
    {
     "data": {
      "text/plain": [
       "┌──────────────┬────────────────────┐\n",
       "│ age_category │ count_transactions │\n",
       "│   varchar    │       int64        │\n",
       "├──────────────┼────────────────────┤\n",
       "│ 17-24        │              16221 │\n",
       "│ 25-34        │            1229086 │\n",
       "│ 35-44        │            2808998 │\n",
       "│ 45-54        │            3517726 │\n",
       "│ 55+          │            5733884 │\n",
       "└──────────────┴────────────────────┘"
      ]
     },
     "execution_count": 41,
     "metadata": {},
     "output_type": "execute_result"
    }
   ],
   "source": [
    "duckdb.sql('''\n",
    "select \n",
    "    case \n",
    "      when u.current_age between 0 and 16 then '0-16'\n",
    "      when u.current_age between 17 and 24 then '17-24'\n",
    "      when u.current_age between 25 and 34 then '25-34'\n",
    "      when u.current_age between 35 and 44 then '35-44'\n",
    "      when u.current_age between 45 and 54 then '45-54'\n",
    "      when u.current_age > 54 then '55+'\n",
    "     end as age_category,\n",
    "    count(t.id) as count_transactions\n",
    "from transactions t\n",
    "left join users u \n",
    "on t.client_id = u.id\n",
    "group by 1\n",
    "order by 1\n",
    "''')"
   ]
  },
  {
   "cell_type": "code",
   "execution_count": 50,
   "id": "5d5cb67a",
   "metadata": {},
   "outputs": [
    {
     "data": {
      "text/plain": [
       "┌──────────────┬──────────────┐\n",
       "│ age_category │ total_amount │\n",
       "│   varchar    │    double    │\n",
       "├──────────────┼──────────────┤\n",
       "│ 17-24        │    774022.97 │\n",
       "│ 25-34        │  57861651.25 │\n",
       "│ 35-44        │ 114570340.63 │\n",
       "│ 45-54        │ 152973355.34 │\n",
       "│ 55+          │ 245656152.09 │\n",
       "└──────────────┴──────────────┘"
      ]
     },
     "execution_count": 50,
     "metadata": {},
     "output_type": "execute_result"
    }
   ],
   "source": [
    "duckdb.sql('''\n",
    "select \n",
    "    case \n",
    "      when u.current_age between 0 and 16 then '0-16'\n",
    "      when u.current_age between 17 and 24 then '17-24'\n",
    "      when u.current_age between 25 and 34 then '25-34'\n",
    "      when u.current_age between 35 and 44 then '35-44'\n",
    "      when u.current_age between 45 and 54 then '45-54'\n",
    "      when u.current_age > 54 then '55+'\n",
    "     end as age_category,\n",
    "    round(sum(t.amount),2) as total_amount\n",
    "from transactions t\n",
    "left join users u \n",
    "on t.client_id = u.id\n",
    "group by 1\n",
    "order by 1\n",
    "''')"
   ]
  },
  {
   "cell_type": "markdown",
   "id": "94a7872f",
   "metadata": {},
   "source": [
    "### Jenis Kartu yang paling sering transaksi"
   ]
  },
  {
   "cell_type": "code",
   "execution_count": 42,
   "id": "740970b7",
   "metadata": {},
   "outputs": [
    {
     "data": {
      "text/plain": [
       "┌─────────────────┬────────────────────┐\n",
       "│    card_type    │ count_transactions │\n",
       "│     varchar     │       int64        │\n",
       "├─────────────────┼────────────────────┤\n",
       "│ Debit           │           29928806 │\n",
       "│ Credit          │           16681413 │\n",
       "│ Debit (Prepaid) │            4505118 │\n",
       "└─────────────────┴────────────────────┘"
      ]
     },
     "execution_count": 42,
     "metadata": {},
     "output_type": "execute_result"
    }
   ],
   "source": [
    "duckdb.sql('''\n",
    "select \n",
    "    c.card_type,\n",
    "    count(t.id) as count_transactions\n",
    "from \n",
    "    transactions t\n",
    "left join cards c \n",
    "on t.client_id = c.client_id \n",
    "group by 1\n",
    "''')"
   ]
  },
  {
   "cell_type": "markdown",
   "id": "3479117a",
   "metadata": {},
   "source": [
    "### Brand kartu yang paling sering melakukan transaksi"
   ]
  },
  {
   "cell_type": "code",
   "execution_count": 43,
   "id": "3a2bf6c9",
   "metadata": {},
   "outputs": [
    {
     "data": {
      "text/plain": [
       "┌────────────┬────────────────────┐\n",
       "│ card_brand │ count_transactions │\n",
       "│  varchar   │       int64        │\n",
       "├────────────┼────────────────────┤\n",
       "│ Mastercard │           26640082 │\n",
       "│ Discover   │            1702534 │\n",
       "│ Amex       │            3428736 │\n",
       "│ Visa       │           19343985 │\n",
       "└────────────┴────────────────────┘"
      ]
     },
     "execution_count": 43,
     "metadata": {},
     "output_type": "execute_result"
    }
   ],
   "source": [
    "duckdb.sql('''\n",
    "select \n",
    "    c.card_brand,\n",
    "    count(t.id) as count_transactions\n",
    "from \n",
    "    transactions t\n",
    "left join cards c \n",
    "on t.client_id = c.client_id \n",
    "group by 1\n",
    "''')"
   ]
  },
  {
   "cell_type": "markdown",
   "id": "350acc86",
   "metadata": {},
   "source": [
    "### Jenis kelamin yang paling sering melakukan transaksi"
   ]
  },
  {
   "cell_type": "code",
   "execution_count": 44,
   "id": "202a6a47",
   "metadata": {},
   "outputs": [
    {
     "data": {
      "text/plain": [
       "┌─────────┬────────────────────┐\n",
       "│ gender  │ count_transactions │\n",
       "│ varchar │       int64        │\n",
       "├─────────┼────────────────────┤\n",
       "│ Female  │            6815916 │\n",
       "│ Male    │            6489999 │\n",
       "└─────────┴────────────────────┘"
      ]
     },
     "execution_count": 44,
     "metadata": {},
     "output_type": "execute_result"
    }
   ],
   "source": [
    "duckdb.sql('''\n",
    "select \n",
    "    u.gender,\n",
    "    count(t.id) as count_transactions\n",
    "from \n",
    "    transactions t\n",
    "left join users u\n",
    "on t.client_id = u.id \n",
    "group by 1\n",
    "''')"
   ]
  },
  {
   "cell_type": "code",
   "execution_count": 51,
   "id": "46931e8d",
   "metadata": {},
   "outputs": [
    {
     "data": {
      "text/plain": [
       "┌─────────┬──────────────┐\n",
       "│ gender  │ total_amount │\n",
       "│ varchar │    double    │\n",
       "├─────────┼──────────────┤\n",
       "│ Female  │  293309545.3 │\n",
       "│ Male    │ 278525976.98 │\n",
       "└─────────┴──────────────┘"
      ]
     },
     "execution_count": 51,
     "metadata": {},
     "output_type": "execute_result"
    }
   ],
   "source": [
    "duckdb.sql('''\n",
    "select \n",
    "    u.gender,\n",
    "    round(sum(t.amount),2) as total_amount\n",
    "from \n",
    "    transactions t\n",
    "left join users u\n",
    "on t.client_id = u.id \n",
    "group by 1\n",
    "''')"
   ]
  },
  {
   "cell_type": "code",
   "execution_count": null,
   "id": "0492fe31",
   "metadata": {},
   "outputs": [],
   "source": []
  },
  {
   "cell_type": "markdown",
   "id": "8ff87ab3",
   "metadata": {},
   "source": [
    "### user yang tidak pernah melakukan transaksi\n"
   ]
  },
  {
   "cell_type": "code",
   "execution_count": 45,
   "id": "8c495028",
   "metadata": {},
   "outputs": [
    {
     "data": {
      "text/plain": [
       "┌───────┬─────────────┬────────────────┬────────────┬─────────────┬─────────┬────────────────────────┬──────────┬───────────┬───────────────────┬───────────────┬────────────┬──────────────┬──────────────────┐\n",
       "│  id   │ current_age │ retirement_age │ birth_year │ birth_month │ gender  │        address         │ latitude │ longitude │ per_capita_income │ yearly_income │ total_debt │ credit_score │ num_credit_cards │\n",
       "│ int64 │    int64    │     int64      │   int64    │    int64    │ varchar │        varchar         │  double  │  double   │       int64       │     int64     │   int64    │    int64     │      int64       │\n",
       "├───────┼─────────────┼────────────────┼────────────┼─────────────┼─────────┼────────────────────────┼──────────┼───────────┼───────────────────┼───────────────┼────────────┼──────────────┼──────────────────┤\n",
       "│  1231 │          26 │             52 │       1994 │           1 │ Female  │ 613 Little Creek Lane  │    26.41 │    -81.42 │             10819 │         22066 │      38967 │          842 │                1 │\n",
       "│   307 │          18 │             69 │       2001 │           8 │ Male    │ 2846 Lake Avenue       │    30.23 │    -92.81 │             18082 │         36866 │          0 │          680 │                2 │\n",
       "│  1968 │          25 │             69 │       1994 │          11 │ Female  │ 611 Elm Lane           │    40.94 │    -73.86 │             31299 │         63816 │     100128 │          775 │                1 │\n",
       "│  1734 │          37 │             69 │       1982 │          11 │ Male    │ 185 Forest Drive       │    33.95 │    -84.54 │             40530 │         82637 │      84762 │          739 │                2 │\n",
       "│  1033 │          18 │             58 │       2002 │           2 │ Female  │ 352 George Street      │    43.07 │    -82.49 │             16598 │         33844 │      42109 │          684 │                2 │\n",
       "│   298 │          28 │             65 │       1991 │           5 │ Male    │ 437 Ocean View Drive   │    40.79 │    -77.85 │             25031 │         51041 │     106989 │          686 │                1 │\n",
       "│  1199 │          29 │             68 │       1990 │           6 │ Male    │ 704 Eighth Avenue      │    42.93 │    -75.38 │             19161 │         39069 │      63884 │          720 │                2 │\n",
       "│  1191 │          25 │             69 │       1994 │          12 │ Female  │ 299 Oak Boulevard      │    45.19 │   -123.24 │             18098 │         36902 │      60538 │          711 │                1 │\n",
       "│   925 │          31 │             68 │       1988 │           3 │ Male    │ 4165 Valley Avenue     │    38.76 │    -89.97 │             28710 │         58538 │      93153 │          610 │                1 │\n",
       "│   824 │          32 │             66 │       1987 │           8 │ Female  │ 38 Catherine Boulevard │    27.75 │    -82.64 │             18100 │         36901 │      23293 │          695 │                4 │\n",
       "│    ·  │           · │              · │         ·  │           · │   ·     │         ·              │       ·  │       ·   │               ·   │           ·   │        ·   │           ·  │                · │\n",
       "│    ·  │           · │              · │         ·  │           · │   ·     │         ·              │       ·  │       ·   │               ·   │           ·   │        ·   │           ·  │                · │\n",
       "│    ·  │           · │              · │         ·  │           · │   ·     │         ·              │       ·  │       ·   │               ·   │           ·   │        ·   │           ·  │                · │\n",
       "│  1410 │          22 │             63 │       1998 │           1 │ Female  │ 7902 Norfolk Drive     │     39.3 │    -76.44 │             21017 │         42856 │      67954 │          571 │                1 │\n",
       "│     6 │          19 │             63 │       2000 │           6 │ Female  │ 534 Second Lane        │    32.88 │   -117.13 │             27394 │         55854 │     111042 │          782 │                1 │\n",
       "│  1681 │          21 │             72 │       1998 │           6 │ Male    │ 21 Birch Drive         │    38.63 │    -90.24 │             31909 │         65058 │     157708 │          746 │                1 │\n",
       "│   624 │          33 │             66 │       1987 │           2 │ Male    │ 515 Spruce Boulevard   │    42.89 │    -85.72 │             18431 │         37579 │      59201 │          710 │                2 │\n",
       "│   809 │          54 │             66 │       1965 │           5 │ Female  │ 2855 Sixth Avenue      │    41.76 │    -88.15 │             41979 │         85596 │     159101 │          618 │                1 │\n",
       "│   105 │          54 │             68 │       1965 │           8 │ Male    │ 420 Oak Drive          │    41.47 │    -75.57 │             18432 │         37579 │          0 │          742 │                5 │\n",
       "│   499 │          23 │             66 │       1996 │           9 │ Male    │ 8373 Birch Boulevard   │    40.71 │    -73.99 │             18525 │         37769 │       1412 │          742 │                2 │\n",
       "│  1947 │          87 │             66 │       1932 │           4 │ Male    │ 770 Maple Street       │    31.62 │    -82.88 │             14060 │         27971 │       1265 │          765 │                4 │\n",
       "│  1545 │          20 │             63 │       1999 │          12 │ Male    │ 1433 Rose Boulevard    │    33.73 │   -117.05 │             15144 │         30882 │      60484 │          807 │                3 │\n",
       "│   420 │          22 │             62 │       1998 │           2 │ Male    │ 1651 Oak Drive         │    33.82 │   -117.91 │             16252 │         33140 │      51305 │          744 │                1 │\n",
       "├───────┴─────────────┴────────────────┴────────────┴─────────────┴─────────┴────────────────────────┴──────────┴───────────┴───────────────────┴───────────────┴────────────┴──────────────┴──────────────────┤\n",
       "│ 781 rows (20 shown)                                                                                                                                                                               14 columns │\n",
       "└──────────────────────────────────────────────────────────────────────────────────────────────────────────────────────────────────────────────────────────────────────────────────────────────────────────────┘"
      ]
     },
     "execution_count": 45,
     "metadata": {},
     "output_type": "execute_result"
    }
   ],
   "source": [
    "duckdb.sql('''\n",
    "select \n",
    "    u.*,\n",
    "from users u \n",
    "left join transactions t \n",
    "on u.id = t.client_id\n",
    "where t.client_id is null\n",
    "''')"
   ]
  },
  {
   "cell_type": "markdown",
   "id": "762a06f5",
   "metadata": {},
   "source": [
    "duckdb"
   ]
  },
  {
   "cell_type": "code",
   "execution_count": 47,
   "id": "4a477bea",
   "metadata": {},
   "outputs": [
    {
     "data": {
      "text/plain": [
       "┌───────┬──────────────┐\n",
       "│  mcc  │ count_star() │\n",
       "│ int64 │    int64     │\n",
       "├───────┼──────────────┤\n",
       "│  5411 │      1592584 │\n",
       "│  5499 │      1460875 │\n",
       "│  5541 │      1424711 │\n",
       "│  5812 │       999738 │\n",
       "│  5912 │       772913 │\n",
       "│  4784 │       674135 │\n",
       "│  5300 │       601942 │\n",
       "│  4829 │       589140 │\n",
       "│  4121 │       500662 │\n",
       "│  5814 │       499659 │\n",
       "├───────┴──────────────┤\n",
       "│ 10 rows    2 columns │\n",
       "└──────────────────────┘"
      ]
     },
     "execution_count": 47,
     "metadata": {},
     "output_type": "execute_result"
    }
   ],
   "source": [
    "duckdb.sql('select mcc, count(*) from transactions group by mcc order by count(*) desc limit 10')"
   ]
  },
  {
   "cell_type": "code",
   "execution_count": 30,
   "id": "5ae38e35",
   "metadata": {},
   "outputs": [
    {
     "data": {
      "text/plain": [
       "┌───────────┬─────────────┐\n",
       "│ client_id │ total_trans │\n",
       "│   int64   │   double    │\n",
       "├───────────┼─────────────┤\n",
       "│        96 │  2445773.25 │\n",
       "│      1686 │   2167880.9 │\n",
       "│      1340 │  2039921.23 │\n",
       "│       840 │  1956340.84 │\n",
       "│       464 │  1882901.35 │\n",
       "│       490 │  1711482.69 │\n",
       "│       704 │  1635022.05 │\n",
       "│       285 │  1615458.99 │\n",
       "│       488 │  1611114.42 │\n",
       "│      1168 │  1590822.75 │\n",
       "├───────────┴─────────────┤\n",
       "│ 10 rows       2 columns │\n",
       "└─────────────────────────┘"
      ]
     },
     "execution_count": 30,
     "metadata": {},
     "output_type": "execute_result"
    }
   ],
   "source": [
    "duckdb.sql('''\n",
    "with user_trans as (\n",
    "select \n",
    "    client_id,\n",
    "    round(sum(amount),2) as total_trans\n",
    "from \n",
    "    transactions\n",
    "group by client_id\n",
    "order by sum(amount) desc)\n",
    "select \n",
    "    *\n",
    "from \n",
    "    user_trans\n",
    "limit 10\n",
    "''')"
   ]
  },
  {
   "cell_type": "code",
   "execution_count": 31,
   "id": "7f8811c7",
   "metadata": {},
   "outputs": [
    {
     "data": {
      "text/plain": [
       "┌───────────┬────────────┐\n",
       "│ client_id │ count_card │\n",
       "│   int64   │   int64    │\n",
       "├───────────┼────────────┤\n",
       "│      1741 │          9 │\n",
       "│      1512 │          8 │\n",
       "│      1492 │          8 │\n",
       "│      1425 │          8 │\n",
       "│      1345 │          8 │\n",
       "│      1811 │          8 │\n",
       "│      1031 │          8 │\n",
       "│       921 │          8 │\n",
       "│      1405 │          8 │\n",
       "│       989 │          8 │\n",
       "├───────────┴────────────┤\n",
       "│ 10 rows      2 columns │\n",
       "└────────────────────────┘"
      ]
     },
     "execution_count": 31,
     "metadata": {},
     "output_type": "execute_result"
    }
   ],
   "source": [
    "duckdb.sql('''\n",
    "with card_count as (\n",
    "select \n",
    "    client_id,\n",
    "    count(distinct card_id) as count_card\n",
    "from \n",
    "    transactions\n",
    "group by client_id\n",
    "order by count(distinct card_id) desc)\n",
    "select \n",
    "    *\n",
    "from \n",
    "    card_count\n",
    "limit 10\n",
    "''')"
   ]
  },
  {
   "cell_type": "code",
   "execution_count": 32,
   "id": "943388f6",
   "metadata": {},
   "outputs": [
    {
     "data": {
      "text/plain": [
       "┌────────────────────┬──────────────┐\n",
       "│      use_chip      │ count_star() │\n",
       "│      varchar       │    int64     │\n",
       "├────────────────────┼──────────────┤\n",
       "│ Chip Transaction   │      4780818 │\n",
       "│ Swipe Transaction  │      6967185 │\n",
       "│ Online Transaction │      1557912 │\n",
       "└────────────────────┴──────────────┘"
      ]
     },
     "execution_count": 32,
     "metadata": {},
     "output_type": "execute_result"
    }
   ],
   "source": [
    "duckdb.sql('''\n",
    "select \n",
    "    use_chip,\n",
    "    count(*) \n",
    "from \n",
    "    transactions\n",
    "group by use_chip\n",
    "''')"
   ]
  },
  {
   "cell_type": "code",
   "execution_count": 33,
   "id": "ddf2b0ea",
   "metadata": {},
   "outputs": [
    {
     "data": {
      "text/plain": [
       "┌───────┬───────────────┬──────────────────┐\n",
       "│  id   │ yearly_income │ avg_yearly_trans │\n",
       "│ int64 │     int64     │      double      │\n",
       "├───────┼───────────────┼──────────────────┤\n",
       "│   646 │         43634 │         33773.03 │\n",
       "│   124 │         34311 │         21349.59 │\n",
       "│  1352 │         42102 │         23350.55 │\n",
       "│  1940 │         26865 │         21512.45 │\n",
       "│  1442 │         30432 │         61705.67 │\n",
       "│   573 │         30011 │         26875.37 │\n",
       "│   173 │         30399 │         52655.95 │\n",
       "│  1492 │         56635 │         48677.24 │\n",
       "│  1783 │         37607 │         28380.73 │\n",
       "│  1479 │         26631 │         19801.58 │\n",
       "│    ·  │           ·   │               ·  │\n",
       "│    ·  │           ·   │               ·  │\n",
       "│    ·  │           ·   │               ·  │\n",
       "│  1410 │         42856 │             NULL │\n",
       "│     6 │         55854 │             NULL │\n",
       "│  1681 │         65058 │             NULL │\n",
       "│   624 │         37579 │             NULL │\n",
       "│   809 │         85596 │             NULL │\n",
       "│   105 │         37579 │             NULL │\n",
       "│   499 │         37769 │             NULL │\n",
       "│  1947 │         27971 │             NULL │\n",
       "│  1545 │         30882 │             NULL │\n",
       "│   420 │         33140 │             NULL │\n",
       "├───────┴───────────────┴──────────────────┤\n",
       "│ 2000 rows (20 shown)           3 columns │\n",
       "└──────────────────────────────────────────┘"
      ]
     },
     "execution_count": 33,
     "metadata": {},
     "output_type": "execute_result"
    }
   ],
   "source": [
    "duckdb.sql('''\n",
    "with transactions as (\n",
    "select \n",
    "    client_id,\n",
    "    EXTRACT( year from date) as year,\n",
    "    round(sum(amount),2) as total_trans\n",
    "from \n",
    "    transactions t \n",
    "group by client_id, year),\n",
    "yearly_avg as (\n",
    "select \n",
    "    client_id,\n",
    "    round(avg(total_trans),2) as avg_yearly_trans\n",
    "from \n",
    "    transactions\n",
    "group by 1)\n",
    "select \n",
    "    u.id,\n",
    "    u.yearly_income,\n",
    "    y.avg_yearly_trans\n",
    "from \n",
    "    users u \n",
    "left join yearly_avg y\n",
    "on u.id = y.client_id\n",
    "''')"
   ]
  },
  {
   "cell_type": "code",
   "execution_count": 35,
   "id": "ce3b1ce9",
   "metadata": {},
   "outputs": [
    {
     "data": {
      "text/plain": [
       "┌─────────────┐\n",
       "│ count(u.id) │\n",
       "│    int64    │\n",
       "├─────────────┤\n",
       "│         781 │\n",
       "└─────────────┘"
      ]
     },
     "execution_count": 35,
     "metadata": {},
     "output_type": "execute_result"
    }
   ],
   "source": [
    "duckdb.sql('''\n",
    "select \n",
    "    count(u.id)\n",
    "from \n",
    "    users u\n",
    "left join transactions t\n",
    "on u.id = t.client_id\n",
    "where t.client_id is null      \n",
    "''')"
   ]
  },
  {
   "cell_type": "code",
   "execution_count": 56,
   "id": "77cd447e",
   "metadata": {},
   "outputs": [
    {
     "data": {
      "text/plain": [
       "┌─────────────────┬─────────┬──────────────┬───────────┐\n",
       "│    card_type    │ gender  │ avg_spending │ total_txn │\n",
       "│     varchar     │ varchar │    double    │   int64   │\n",
       "├─────────────────┼─────────┼──────────────┼───────────┤\n",
       "│ Credit          │ Male    │        65.18 │   1890912 │\n",
       "│ Credit          │ Female  │        63.83 │   1997890 │\n",
       "│ Debit           │ Female  │        46.98 │   4024517 │\n",
       "│ Debit           │ Male    │        46.08 │   3839864 │\n",
       "│ Debit (Prepaid) │ Male    │        27.05 │    428927 │\n",
       "│ Debit (Prepaid) │ Female  │        24.17 │    453117 │\n",
       "└─────────────────┴─────────┴──────────────┴───────────┘"
      ]
     },
     "execution_count": 56,
     "metadata": {},
     "output_type": "execute_result"
    }
   ],
   "source": [
    "duckdb.sql('''\n",
    "SELECT \n",
    "    c.card_type,\n",
    "    u.gender,\n",
    "    round(AVG(t.amount),2) AS avg_spending,\n",
    "    COUNT(DISTINCT t.id) AS total_txn\n",
    "FROM users u\n",
    "JOIN cards c ON u.id = c.client_id\n",
    "JOIN transactions t ON c.id = t.card_id\n",
    "WHERE t.amount > 0\n",
    "GROUP BY c.card_type, u.gender\n",
    "ORDER BY avg_spending DESC;\n",
    "''')"
   ]
  },
  {
   "cell_type": "code",
   "execution_count": 70,
   "id": "08affa71",
   "metadata": {},
   "outputs": [
    {
     "data": {
      "text/plain": [
       "┌───────┬──────────────┐\n",
       "│ month │ total_amount │\n",
       "│ int64 │    double    │\n",
       "├───────┼──────────────┤\n",
       "│     1 │  48706157.19 │\n",
       "│     2 │  44522960.71 │\n",
       "│     3 │  49314647.53 │\n",
       "│     4 │  47797478.55 │\n",
       "│     5 │  49192440.78 │\n",
       "│     6 │  48424797.72 │\n",
       "│     7 │  49696315.04 │\n",
       "│     8 │  49510320.78 │\n",
       "│     9 │  47944954.74 │\n",
       "│    10 │  49435764.38 │\n",
       "│    11 │  42900837.01 │\n",
       "│    12 │  44388847.85 │\n",
       "├───────┴──────────────┤\n",
       "│ 12 rows    2 columns │\n",
       "└──────────────────────┘"
      ]
     },
     "execution_count": 70,
     "metadata": {},
     "output_type": "execute_result"
    }
   ],
   "source": [
    "duckdb.sql('''\n",
    "with trans as (\n",
    "select\n",
    "  date :: date as date_2,\n",
    "  extract(month from date) as month,\n",
    "  *\n",
    "from \n",
    "  transactions )\n",
    "\n",
    "select \n",
    "    month,\n",
    "    round(sum(amount),2) as total_amount\n",
    "from \n",
    "    trans\n",
    "group by month\n",
    "order by month\n",
    "''')\n"
   ]
  }
 ],
 "metadata": {
  "kernelspec": {
   "display_name": "env",
   "language": "python",
   "name": "python3"
  },
  "language_info": {
   "codemirror_mode": {
    "name": "ipython",
    "version": 3
   },
   "file_extension": ".py",
   "mimetype": "text/x-python",
   "name": "python",
   "nbconvert_exporter": "python",
   "pygments_lexer": "ipython3",
   "version": "3.12.3"
  }
 },
 "nbformat": 4,
 "nbformat_minor": 5
}
